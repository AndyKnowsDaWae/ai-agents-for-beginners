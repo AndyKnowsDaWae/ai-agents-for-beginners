{
 "cells": [
  {
   "cell_type": "markdown",
   "id": "7220b21d",
   "metadata": {},
   "source": [
    "# 🌍 AI Travel Agent with Microsoft Agent Framework (.NET)\n",
    "\n",
    "## 📋 Scenario Overview\n",
    "\n",
    "This notebook demonstrates how to build an intelligent travel planning agent using the Microsoft Agent Framework for .NET. The agent can automatically generate personalized day-trip itineraries for random destinations around the world.\n",
    "\n",
    "**Key Capabilities:**\n",
    "- 🎲 **Random Destination Selection**: Uses a custom tool to pick vacation spots\n",
    "- 🗺️ **Intelligent Trip Planning**: Creates detailed day-by-day itineraries\n",
    "- 🔄 **Real-time Streaming**: Supports both immediate and streaming responses\n",
    "- 🛠️ **Custom Tool Integration**: Demonstrates how to extend agent capabilities\n",
    "\n",
    "## 🔧 Technical Architecture\n",
    "\n",
    "### Core Technologies\n",
    "- **Microsoft Agent Framework**: Latest .NET implementation for AI agent development\n",
    "- **GitHub Models Integration**: Uses GitHub's AI model inference service\n",
    "- **OpenAI API Compatibility**: Leverages OpenAI client libraries with custom endpoints\n",
    "- **Secure Configuration**: Environment-based API key management\n",
    "\n",
    "### Key Components\n",
    "1. **AIAgent**: The main agent orchestrator that handles conversation flow\n",
    "2. **Custom Tools**: `GetRandomDestination()` function available to the agent\n",
    "3. **Chat Client**: GitHub Models-backed conversation interface\n",
    "4. **Streaming Support**: Real-time response generation capabilities\n",
    "\n",
    "### Integration Pattern\n",
    "```mermaid\n",
    "graph LR\n",
    "    A[User Request] --> B[AI Agent]\n",
    "    B --> C[GitHub Models API]\n",
    "    B --> D[GetRandomDestination Tool]\n",
    "    C --> E[Travel Itinerary]\n",
    "    D --> E\n",
    "```\n",
    "\n",
    "## 🚀 Getting Started\n",
    "\n",
    "**Prerequisites:**\n",
    "- .NET 9.0 or higher\n",
    "- GitHub Models API access token\n",
    "- Environment variables configured in `.env` file\n",
    "\n",
    "**Required Environment Variables:**\n",
    "```env\n",
    "GITHUB_TOKEN=your_github_token\n",
    "GITHUB_ENDPOINT=https://models.inference.ai.azure.com\n",
    "GITHUB_MODEL_ID=gpt-4o-mini\n",
    "```\n",
    "\n",
    "Run the cells below in sequence to see the travel agent in action!"
   ]
  },
  {
   "cell_type": "code",
   "execution_count": 1,
   "id": "2770ac5c",
   "metadata": {
    "language_info": {
     "name": "polyglot-notebook"
    },
    "polyglot_notebook": {
     "kernelName": "csharp"
    }
   },
   "outputs": [
    {
     "data": {
      "text/html": [
       "<div><div></div><div></div><div><strong>Installed Packages</strong><ul><li><span>Microsoft.Extensions.AI, 9.9.0</span></li></ul></div></div>"
      ]
     },
     "metadata": {},
     "output_type": "display_data"
    }
   ],
   "source": [
    "// 📦 NuGet Package Reference: Microsoft Extensions AI\n",
    "// This provides the core AI abstraction layer for .NET applications\n",
    "// Essential for building AI agents with standardized interfaces\n",
    "#r \"nuget: Microsoft.Extensions.AI, 9.9.0\""
   ]
  },
  {
   "cell_type": "code",
   "execution_count": 2,
   "id": "984ff6cd",
   "metadata": {
    "language_info": {
     "name": "polyglot-notebook"
    },
    "polyglot_notebook": {
     "kernelName": "csharp"
    }
   },
   "outputs": [],
   "source": [
    "// 🔗 Local Reference: OpenAI Agent Extensions\n",
    "// This references the local build of the Microsoft Extensions AI Agents OpenAI library\n",
    "// Contains OpenAI-specific implementations for the agent framework\n",
    "// Required for integrating with OpenAI models and GitHub Models\n",
    "#r \"C:\\Users\\kinfeylo\\Documents\\Agent\\agent-framework\\dotnet\\src\\Microsoft.Agents.AI.OpenAI\\bin\\Debug\\net9.0\\Microsoft.Agents.AI.OpenAI.dll\""
   ]
  },
  {
   "cell_type": "code",
   "execution_count": 3,
   "id": "0ab71360",
   "metadata": {
    "language_info": {
     "name": "polyglot-notebook"
    },
    "polyglot_notebook": {
     "kernelName": "csharp"
    }
   },
   "outputs": [],
   "source": [
    "// 🤖 Local Reference: Core Agent Framework\n",
    "// This references the core Microsoft Extensions AI Agents library\n",
    "// Provides the fundamental agent abstractions and base classes\n",
    "// Essential for creating and managing AI agents\n",
    "#r \"C:\\Users\\kinfeylo\\Documents\\Agent\\agent-framework\\dotnet\\src\\Microsoft.Agents.AI\\bin\\Debug\\net9.0\\Microsoft.Agents.AI.dll\""
   ]
  },
  {
   "cell_type": "code",
   "execution_count": 4,
   "id": "4ab7b15d",
   "metadata": {
    "language_info": {
     "name": "polyglot-notebook"
    },
    "polyglot_notebook": {
     "kernelName": "csharp"
    }
   },
   "outputs": [
    {
     "data": {
      "text/html": [
       "<div><div></div><div></div><div><strong>Installed Packages</strong><ul><li><span>Microsoft.Extensions.AI.OpenAI, 9.9.0-preview.1.25458.4</span></li></ul></div></div>"
      ]
     },
     "metadata": {},
     "output_type": "display_data"
    }
   ],
   "source": [
    "// 🔌 NuGet Package Reference: OpenAI Integration\n",
    "// Preview version of Microsoft Extensions AI OpenAI integration\n",
    "// Provides OpenAI client and service implementations\n",
    "// Enables communication with OpenAI API and GitHub Models\n",
    "#r \"nuget: Microsoft.Extensions.AI.OpenAI, 9.9.0-preview.1.25458.4\""
   ]
  },
  {
   "cell_type": "code",
   "execution_count": 5,
   "id": "3fa8aa21",
   "metadata": {
    "language_info": {
     "name": "polyglot-notebook"
    },
    "polyglot_notebook": {
     "kernelName": "csharp"
    }
   },
   "outputs": [
    {
     "data": {
      "text/html": [
       "<div><div></div><div></div><div><strong>Installed Packages</strong><ul><li><span>DotNetEnv, 3.1.1</span></li></ul></div></div>"
      ]
     },
     "metadata": {},
     "output_type": "display_data"
    }
   ],
   "source": [
    "// 🔧 NuGet Package Reference: Environment Variables\n",
    "// DotNetEnv allows loading environment variables from .env files\n",
    "// Essential for managing API keys and configuration securely\n",
    "// Helps keep sensitive information out of source code\n",
    "#r \"nuget: DotNetEnv, 3.1.1\""
   ]
  },
  {
   "cell_type": "code",
   "execution_count": 6,
   "id": "fc8ee8ea",
   "metadata": {
    "language_info": {
     "name": "polyglot-notebook"
    },
    "polyglot_notebook": {
     "kernelName": "csharp"
    }
   },
   "outputs": [],
   "source": [
    "// 📚 Import Required Namespaces\n",
    "using System;                          // Core system functionality and base types\n",
    "using System.ComponentModel;           // For Description attributes on tool functions\n",
    "using System.ClientModel;             // Client model abstractions for API interactions\n",
    "\n",
    "using Microsoft.Extensions.AI;        // Core AI abstractions and interfaces\n",
    "using Microsoft.Agents.AI;           // Agent framework classes and interfaces\n",
    "using OpenAI;                         // OpenAI client library for API communication"
   ]
  },
  {
   "cell_type": "code",
   "execution_count": 7,
   "id": "699b1c83",
   "metadata": {
    "language_info": {
     "name": "polyglot-notebook"
    },
    "polyglot_notebook": {
     "kernelName": "csharp"
    }
   },
   "outputs": [],
   "source": [
    "// 🔧 Import Environment Variable Loading\n",
    "// DotNetEnv namespace for loading .env files\n",
    "// Enables secure configuration management from external files\n",
    "using DotNetEnv;"
   ]
  },
  {
   "cell_type": "code",
   "execution_count": 8,
   "id": "daa649a0",
   "metadata": {
    "language_info": {
     "name": "polyglot-notebook"
    },
    "polyglot_notebook": {
     "kernelName": "csharp"
    }
   },
   "outputs": [],
   "source": [
    "// 🔧 Load Environment Variables from .env File\n",
    "// This loads configuration from a .env file located 3 directories up\n",
    "// Required variables: GITHUB_ENDPOINT, GITHUB_TOKEN, GITHUB_MODEL_ID\n",
    "// Ensures secure handling of API credentials and configuration\n",
    "Env.Load(\"../../../.env\");"
   ]
  },
  {
   "cell_type": "code",
   "execution_count": 9,
   "id": "29661a90",
   "metadata": {
    "language_info": {
     "name": "polyglot-notebook"
    },
    "polyglot_notebook": {
     "kernelName": "csharp"
    }
   },
   "outputs": [],
   "source": [
    "// 🎲 Tool Function: Random Destination Generator\n",
    "// This static method will be available to the agent as a callable tool\n",
    "// The [Description] attribute helps the AI understand when to use this function\n",
    "// This demonstrates how to create custom tools for AI agents\n",
    "[Description(\"Provides a random vacation destination.\")]\n",
    "static string GetRandomDestination()\n",
    "{\n",
    "    // List of popular vacation destinations around the world\n",
    "    // The agent will randomly select from these options\n",
    "    var destinations = new List<string>\n",
    "    {\n",
    "        \"Paris, France\",         // European cultural capital\n",
    "        \"Tokyo, Japan\",          // Asian modern metropolis\n",
    "        \"New York City, USA\",    // American urban experience\n",
    "        \"Sydney, Australia\",     // Oceanic coastal beauty\n",
    "        \"Rome, Italy\",           // Historical European city\n",
    "        \"Barcelona, Spain\",      // Mediterranean cultural hub\n",
    "        \"Cape Town, South Africa\", // African scenic destination\n",
    "        \"Rio de Janeiro, Brazil\",  // South American beach city\n",
    "        \"Bangkok, Thailand\",        // Southeast Asian cultural center\n",
    "        \"Vancouver, Canada\"         // North American natural beauty\n",
    "    };\n",
    "\n",
    "    // Generate random index and return selected destination\n",
    "    // Uses System.Random for simple random selection\n",
    "    var random = new Random();\n",
    "    int index = random.Next(destinations.Count);\n",
    "    return destinations[index];\n",
    "}"
   ]
  },
  {
   "cell_type": "code",
   "execution_count": 10,
   "id": "d2ed1f8b",
   "metadata": {
    "language_info": {
     "name": "polyglot-notebook"
    },
    "polyglot_notebook": {
     "kernelName": "csharp"
    }
   },
   "outputs": [],
   "source": [
    "// 🔑 Extract Configuration from Environment Variables\n",
    "// Retrieve GitHub Models API endpoint, throws exception if not set\n",
    "var github_endpoint = Environment.GetEnvironmentVariable(\"GITHUB_ENDPOINT\") ?? throw new InvalidOperationException(\"GITHUB_ENDPOINT is not set.\");\n",
    "// Get the model ID, defaults to gpt-4o-mini if not specified\n",
    "var github_model_id = Environment.GetEnvironmentVariable(\"GITHUB_MODEL_ID\") ?? \"gpt-4o-mini\";\n",
    "// Retrieve GitHub token for authentication, throws exception if not set\n",
    "var github_token = Environment.GetEnvironmentVariable(\"GITHUB_TOKEN\") ?? throw new InvalidOperationException(\"GITHUB_TOKEN is not set.\");"
   ]
  },
  {
   "cell_type": "code",
   "execution_count": 11,
   "id": "c36c73e1",
   "metadata": {
    "language_info": {
     "name": "polyglot-notebook"
    },
    "polyglot_notebook": {
     "kernelName": "csharp"
    }
   },
   "outputs": [],
   "source": [
    "// ⚙️ Configure OpenAI Client Options\n",
    "// Create configuration options to point to GitHub Models endpoint\n",
    "// This redirects OpenAI client calls to GitHub's model inference service\n",
    "var openAIOptions = new OpenAIClientOptions()\n",
    "{\n",
    "    Endpoint= new Uri(github_endpoint)  // Set custom endpoint for GitHub Models\n",
    "};"
   ]
  },
  {
   "cell_type": "code",
   "execution_count": 12,
   "id": "6d94ff10",
   "metadata": {
    "language_info": {
     "name": "polyglot-notebook"
    },
    "polyglot_notebook": {
     "kernelName": "csharp"
    }
   },
   "outputs": [],
   "source": [
    "// 🔌 Initialize OpenAI Client with GitHub Models Configuration\n",
    "// Create OpenAI client using GitHub token for authentication\n",
    "// Configure it to use GitHub Models endpoint instead of OpenAI directly\n",
    "var openAIClient = new OpenAIClient(new ApiKeyCredential(github_token), openAIOptions);"
   ]
  },
  {
   "cell_type": "code",
   "execution_count": 13,
   "id": "fe32b57a",
   "metadata": {
    "language_info": {
     "name": "polyglot-notebook"
    },
    "polyglot_notebook": {
     "kernelName": "csharp"
    }
   },
   "outputs": [],
   "source": [
    "// 🤖 Create AI Agent with Travel Planning Capabilities\n",
    "// Initialize OpenAI client, get chat client for specified model, and create AI agent\n",
    "// Configure agent with travel planning instructions and random destination tool\n",
    "// The agent can now plan trips using the GetRandomDestination function\n",
    "AIAgent agent = new OpenAIClient(new ApiKeyCredential(github_token), openAIOptions)\n",
    "    .GetChatClient(github_model_id)  // Get chat client for the specified model\n",
    "    .CreateAIAgent(\n",
    "        instructions:\"You are a helpful AI Agent that can help plan vacations for customers at random destinations\", \n",
    "        tools: [AIFunctionFactory.Create((Func<string>)GetRandomDestination)]  // Register the tool function\n",
    "    );"
   ]
  },
  {
   "cell_type": "code",
   "execution_count": 14,
   "id": "5e455aff",
   "metadata": {
    "language_info": {
     "name": "polyglot-notebook"
    },
    "polyglot_notebook": {
     "kernelName": "csharp"
    }
   },
   "outputs": [
    {
     "name": "stdout",
     "output_type": "stream",
     "text": [
      "How about a lovely day trip to Rome, Italy? Here's a suggested itinerary for a perfect day:\n",
      "\n",
      "### Morning:\n",
      "- **Colosseum**: Start your day early by visiting the iconic Colosseum. Make sure to book your tickets in advance to avoid long lines.\n",
      "- **Roman Forum**: After the Colosseum, take a stroll through the Roman Forum and soak in the ancient ruins and history.\n",
      "\n",
      "### Lunch:\n",
      "- **Trattoria**: Enjoy authentic Italian cuisine at a local trattoria. Try pasta dishes like Carbonara or Cacio e Pepe, paired with a nice glass of Italian wine.\n",
      "\n",
      "### Afternoon:\n",
      "- **Vatican City**: Spend your afternoon exploring Vatican City. Visit St. Peter's Basilica and the Vatican Museums, where you can marvel at the Sistine Chapel.\n",
      "- **Piazza Navona**: Take a leisurely walk to Piazza Navona, one of Rome's most beautiful squares. Enjoy the fountains and street artists.\n",
      "\n",
      "### Evening:\n",
      "- **Dinner**: Head to a nearby restaurant for dinner and enjoy traditional Roman dishes.\n",
      "- **Gelato**: End your evening with a delicious gelato from a local gelateria as you wander the streets of Rome.\n",
      "\n",
      "### Optional:\n",
      "- If time permits, you could also visit the Trevi Fountain, where you can toss a coin and make a wish!\n",
      "\n",
      "Enjoy your day in the Eternal City!\r\n"
     ]
    }
   ],
   "source": [
    "// 🚀 Execute Agent: Plan a Day Trip (Non-Streaming)\n",
    "// Run the agent with a travel planning request\n",
    "// The agent will use the GetRandomDestination tool and create a complete itinerary\n",
    "// Returns the full response once processing is complete\n",
    "Console.WriteLine(await agent.RunAsync(\"Plan me a day trip\"));"
   ]
  },
  {
   "cell_type": "code",
   "execution_count": 15,
   "id": "592ae1bb",
   "metadata": {
    "language_info": {
     "name": "polyglot-notebook"
    },
    "polyglot_notebook": {
     "kernelName": "csharp"
    }
   },
   "outputs": [
    {
     "name": "stdout",
     "output_type": "stream",
     "text": [
      "How about a day trip to Sydney, Australia? Here’s a suggested itinerary for you:\n",
      "\n",
      "### Morning:\n",
      "- **Breakfast at a Local Café:** Start your day with a hearty breakfast at one of Sydney’s famous cafés in The Rocks area. Try some avocado toast or a classic Aussie brekkie.\n",
      "- **Explore the Sydney Opera House:** Take a guided tour of this iconic landmark. Don’t forget to snap some photos!\n",
      "\n",
      "### Late Morning:\n",
      "- **Stroll through the Royal Botanic Garden:** Enjoy a peaceful walk through the beautiful gardens and admire the views of the harbor.\n",
      "\n",
      "### Lunch:\n",
      "- **Lunch at Circular Quay:** Grab some fresh seafood or fish and chips from one of the many restaurants with a view of the harbor.\n",
      "\n",
      "### Afternoon:\n",
      "- **Visit the Art Gallery of New South Wales:** Explore the extensive collection of Australian and international art.\n",
      "- **Take a Ferry to Manly Beach:** Enjoy the stunning views of the Sydney skyline from the water. \n",
      "\n",
      "### Evening:\n",
      "- **Relax at Manly Beach:** Spend some time on the beach, enjoy the sunset, and if you're up for it, take a dip.\n",
      "- **Dinner at a Beachfront Restaurant:** Finish your day with dinner at one of Manly’s beachfront restaurants, enjoying the ocean breeze and fresh seafood.\n",
      "\n",
      "### Optional:\n",
      "- **Night Walk at the Sydney Harbour Bridge:** If you’re up for it, a night walk over the Sydney Harbour Bridge is a fantastic way to end the day with breathtaking views.\n",
      "\n",
      "This itinerary gives you a taste of Sydney's vibrant culture and stunning natural beauty! Would you like more details on any specific activity?"
     ]
    }
   ],
   "source": [
    "// 🌊 Execute Agent: Plan a Day Trip (Streaming Response)\n",
    "// Run the agent with streaming enabled for real-time response display\n",
    "// Shows the agent's thinking and response as it generates the content\n",
    "// Provides better user experience with immediate feedback\n",
    "await foreach (var update in agent.RunStreamingAsync(\"Plan me a day trip\"))\n",
    "{\n",
    "    Console.Write(update);  // Display each part of the response as it arrives\n",
    "}"
   ]
  }
 ],
 "metadata": {
  "kernelspec": {
   "display_name": ".NET (C#)",
   "language": "C#",
   "name": ".net-csharp"
  },
  "language_info": {
   "name": "polyglot-notebook"
  },
  "polyglot_notebook": {
   "kernelInfo": {
    "defaultKernelName": "csharp",
    "items": [
     {
      "aliases": [],
      "name": "csharp"
     }
    ]
   }
  }
 },
 "nbformat": 4,
 "nbformat_minor": 5
}
