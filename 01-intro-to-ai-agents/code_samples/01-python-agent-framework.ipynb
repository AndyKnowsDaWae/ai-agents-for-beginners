{
  "cells": [
    {
      "cell_type": "markdown",
      "id": "f4cf9593",
      "metadata": {},
      "source": [
        "# 🐍 AI Travel Agent with Microsoft Agent Framework (Python)\n",
        "\n",
        "## 📋 Scenario Overview\n",
        "\n",
        "This notebook demonstrates how to build an intelligent travel planning agent using the Microsoft Agent Framework for Python. The agent leverages GitHub Models to automatically generate personalized day-trip itineraries for random destinations worldwide.\n",
        "\n",
        "**Key Features:**\n",
        "- 🎲 **Smart Destination Selection**: Custom tool function for random destination picking\n",
        "- 🗺️ **Detailed Itinerary Generation**: AI-powered travel planning with local recommendations\n",
        "- 🔄 **Async Processing**: Uses asyncio for efficient API communication\n",
        "- 🛠️ **Tool Integration**: Demonstrates function calling capabilities in AI agents\n",
        "\n",
        "## 🏗️ Technical Implementation\n",
        "\n",
        "### Core Components\n",
        "- **Agent Framework**: Python implementation of Microsoft's agent orchestration system\n",
        "- **GitHub Models API**: Access to state-of-the-art language models via GitHub's inference service\n",
        "- **OpenAI Compatibility**: Uses OpenAI client patterns with GitHub Models backend\n",
        "- **Environment Management**: Secure credential handling with python-dotenv\n",
        "\n",
        "### Architecture Flow\n",
        "```python\n",
        "User Request → ChatAgent → GitHub Models API ↔ get_random_destination()\n",
        "                     ↓\n",
        "              Travel Itinerary Response\n",
        "```\n",
        "\n",
        "### Key Classes & Methods\n",
        "- `ChatAgent`: Main conversational agent orchestrator\n",
        "- `OpenAIChatClient`: GitHub Models API client wrapper\n",
        "- `get_random_destination()`: Custom tool function for destination selection\n",
        "- Environment variables: Secure API configuration management\n",
        "\n",
        "## ⚙️ Prerequisites & Setup\n",
        "\n",
        "**Required Dependencies:**\n",
        "```bash\n",
        "\n",
        "pip install agent-framework-core -U\n",
        "```\n",
        "\n",
        "**Environment Configuration (.env file):**\n",
        "```env\n",
        "GITHUB_TOKEN=your_github_personal_access_token\n",
        "GITHUB_ENDPOINT=https://models.inference.ai.azure.com\n",
        "GITHUB_MODEL_ID=gpt-4o-mini\n",
        "```\n",
        "\n",
        "**GitHub Models Access:**\n",
        "1. Sign up for GitHub Models access\n",
        "2. Generate a personal access token\n",
        "3. Configure environment variables as shown above\n",
        "\n",
        "## 🚀 Usage Instructions\n",
        "\n",
        "Execute the cells below in sequence to:\n",
        "1. Import required libraries and load environment variables\n",
        "2. Define the random destination generator tool\n",
        "3. Create and configure the AI agent\n",
        "4. Run travel planning requests and view results\n",
        "\n",
        "Let's build an intelligent travel planning assistant! 🌟"
      ]
    },
    {
      "cell_type": "code",
      "execution_count": 1,
      "id": "fda5fa0a",
      "metadata": {},
      "outputs": [
        {
          "name": "stdout",
          "output_type": "stream",
          "text": [
            "Requirement already satisfied: agent-framework-core in c:\\users\\kinfeylo\\appdata\\local\\miniforge3\\envs\\agentframeworkenv\\lib\\site-packages (1.0.0b251001)\n",
            "Requirement already satisfied: openai>=1.99.0 in c:\\users\\kinfeylo\\appdata\\local\\miniforge3\\envs\\agentframeworkenv\\lib\\site-packages (from agent-framework-core) (2.0.0)\n",
            "Requirement already satisfied: pydantic<3,>=2 in c:\\users\\kinfeylo\\appdata\\local\\miniforge3\\envs\\agentframeworkenv\\lib\\site-packages (from agent-framework-core) (2.11.9)\n",
            "Requirement already satisfied: pydantic-settings<3,>=2 in c:\\users\\kinfeylo\\appdata\\local\\miniforge3\\envs\\agentframeworkenv\\lib\\site-packages (from agent-framework-core) (2.11.0)\n",
            "Requirement already satisfied: typing-extensions in c:\\users\\kinfeylo\\appdata\\local\\miniforge3\\envs\\agentframeworkenv\\lib\\site-packages (from agent-framework-core) (4.15.0)\n",
            "Requirement already satisfied: opentelemetry-api>=1.24 in c:\\users\\kinfeylo\\appdata\\local\\miniforge3\\envs\\agentframeworkenv\\lib\\site-packages (from agent-framework-core) (1.37.0)\n",
            "Requirement already satisfied: opentelemetry-sdk>=1.24 in c:\\users\\kinfeylo\\appdata\\local\\miniforge3\\envs\\agentframeworkenv\\lib\\site-packages (from agent-framework-core) (1.37.0)\n",
            "Requirement already satisfied: mcp>=1.13 in c:\\users\\kinfeylo\\appdata\\local\\miniforge3\\envs\\agentframeworkenv\\lib\\site-packages (from mcp[ws]>=1.13->agent-framework-core) (1.15.0)\n",
            "Requirement already satisfied: azure-monitor-opentelemetry>=1.7.0 in c:\\users\\kinfeylo\\appdata\\local\\miniforge3\\envs\\agentframeworkenv\\lib\\site-packages (from agent-framework-core) (1.8.1)\n",
            "Requirement already satisfied: azure-monitor-opentelemetry-exporter>=1.0.0b41 in c:\\users\\kinfeylo\\appdata\\local\\miniforge3\\envs\\agentframeworkenv\\lib\\site-packages (from agent-framework-core) (1.0.0b42)\n",
            "Requirement already satisfied: opentelemetry-exporter-otlp-proto-grpc>=1.36.0 in c:\\users\\kinfeylo\\appdata\\local\\miniforge3\\envs\\agentframeworkenv\\lib\\site-packages (from agent-framework-core) (1.37.0)\n",
            "Requirement already satisfied: opentelemetry-semantic-conventions-ai>=0.4.13 in c:\\users\\kinfeylo\\appdata\\local\\miniforge3\\envs\\agentframeworkenv\\lib\\site-packages (from agent-framework-core) (0.4.13)\n",
            "Requirement already satisfied: aiofiles>=24.1.0 in c:\\users\\kinfeylo\\appdata\\local\\miniforge3\\envs\\agentframeworkenv\\lib\\site-packages (from agent-framework-core) (24.1.0)\n",
            "Requirement already satisfied: azure-identity<2,>=1 in c:\\users\\kinfeylo\\appdata\\local\\miniforge3\\envs\\agentframeworkenv\\lib\\site-packages (from agent-framework-core) (1.25.0)\n",
            "Requirement already satisfied: azure-core>=1.31.0 in c:\\users\\kinfeylo\\appdata\\local\\miniforge3\\envs\\agentframeworkenv\\lib\\site-packages (from azure-identity<2,>=1->agent-framework-core) (1.35.1)\n",
            "Requirement already satisfied: cryptography>=2.5 in c:\\users\\kinfeylo\\appdata\\local\\miniforge3\\envs\\agentframeworkenv\\lib\\site-packages (from azure-identity<2,>=1->agent-framework-core) (46.0.2)\n",
            "Requirement already satisfied: msal>=1.30.0 in c:\\users\\kinfeylo\\appdata\\local\\miniforge3\\envs\\agentframeworkenv\\lib\\site-packages (from azure-identity<2,>=1->agent-framework-core) (1.34.0)\n",
            "Requirement already satisfied: msal-extensions>=1.2.0 in c:\\users\\kinfeylo\\appdata\\local\\miniforge3\\envs\\agentframeworkenv\\lib\\site-packages (from azure-identity<2,>=1->agent-framework-core) (1.3.1)\n",
            "Requirement already satisfied: annotated-types>=0.6.0 in c:\\users\\kinfeylo\\appdata\\local\\miniforge3\\envs\\agentframeworkenv\\lib\\site-packages (from pydantic<3,>=2->agent-framework-core) (0.7.0)\n",
            "Requirement already satisfied: pydantic-core==2.33.2 in c:\\users\\kinfeylo\\appdata\\local\\miniforge3\\envs\\agentframeworkenv\\lib\\site-packages (from pydantic<3,>=2->agent-framework-core) (2.33.2)\n",
            "Requirement already satisfied: typing-inspection>=0.4.0 in c:\\users\\kinfeylo\\appdata\\local\\miniforge3\\envs\\agentframeworkenv\\lib\\site-packages (from pydantic<3,>=2->agent-framework-core) (0.4.2)\n",
            "Requirement already satisfied: python-dotenv>=0.21.0 in c:\\users\\kinfeylo\\appdata\\local\\miniforge3\\envs\\agentframeworkenv\\lib\\site-packages (from pydantic-settings<3,>=2->agent-framework-core) (1.1.1)\n",
            "Requirement already satisfied: requests>=2.21.0 in c:\\users\\kinfeylo\\appdata\\local\\miniforge3\\envs\\agentframeworkenv\\lib\\site-packages (from azure-core>=1.31.0->azure-identity<2,>=1->agent-framework-core) (2.32.5)\n",
            "Requirement already satisfied: six>=1.11.0 in c:\\users\\kinfeylo\\appdata\\local\\miniforge3\\envs\\agentframeworkenv\\lib\\site-packages (from azure-core>=1.31.0->azure-identity<2,>=1->agent-framework-core) (1.17.0)\n",
            "Requirement already satisfied: azure-core-tracing-opentelemetry~=1.0.0b11 in c:\\users\\kinfeylo\\appdata\\local\\miniforge3\\envs\\agentframeworkenv\\lib\\site-packages (from azure-monitor-opentelemetry>=1.7.0->agent-framework-core) (1.0.0b12)\n",
            "Requirement already satisfied: opentelemetry-instrumentation-django~=0.57b0 in c:\\users\\kinfeylo\\appdata\\local\\miniforge3\\envs\\agentframeworkenv\\lib\\site-packages (from azure-monitor-opentelemetry>=1.7.0->agent-framework-core) (0.58b0)\n",
            "Requirement already satisfied: opentelemetry-instrumentation-fastapi~=0.57b0 in c:\\users\\kinfeylo\\appdata\\local\\miniforge3\\envs\\agentframeworkenv\\lib\\site-packages (from azure-monitor-opentelemetry>=1.7.0->agent-framework-core) (0.58b0)\n",
            "Requirement already satisfied: opentelemetry-instrumentation-flask~=0.57b0 in c:\\users\\kinfeylo\\appdata\\local\\miniforge3\\envs\\agentframeworkenv\\lib\\site-packages (from azure-monitor-opentelemetry>=1.7.0->agent-framework-core) (0.58b0)\n",
            "Requirement already satisfied: opentelemetry-instrumentation-psycopg2~=0.57b0 in c:\\users\\kinfeylo\\appdata\\local\\miniforge3\\envs\\agentframeworkenv\\lib\\site-packages (from azure-monitor-opentelemetry>=1.7.0->agent-framework-core) (0.58b0)\n",
            "Requirement already satisfied: opentelemetry-instrumentation-requests~=0.57b0 in c:\\users\\kinfeylo\\appdata\\local\\miniforge3\\envs\\agentframeworkenv\\lib\\site-packages (from azure-monitor-opentelemetry>=1.7.0->agent-framework-core) (0.58b0)\n",
            "Requirement already satisfied: opentelemetry-instrumentation-urllib~=0.57b0 in c:\\users\\kinfeylo\\appdata\\local\\miniforge3\\envs\\agentframeworkenv\\lib\\site-packages (from azure-monitor-opentelemetry>=1.7.0->agent-framework-core) (0.58b0)\n",
            "Requirement already satisfied: opentelemetry-instrumentation-urllib3~=0.57b0 in c:\\users\\kinfeylo\\appdata\\local\\miniforge3\\envs\\agentframeworkenv\\lib\\site-packages (from azure-monitor-opentelemetry>=1.7.0->agent-framework-core) (0.58b0)\n",
            "Requirement already satisfied: opentelemetry-resource-detector-azure~=0.1.5 in c:\\users\\kinfeylo\\appdata\\local\\miniforge3\\envs\\agentframeworkenv\\lib\\site-packages (from azure-monitor-opentelemetry>=1.7.0->agent-framework-core) (0.1.5)\n",
            "Requirement already satisfied: fixedint==0.1.6 in c:\\users\\kinfeylo\\appdata\\local\\miniforge3\\envs\\agentframeworkenv\\lib\\site-packages (from azure-monitor-opentelemetry-exporter>=1.0.0b41->agent-framework-core) (0.1.6)\n",
            "Requirement already satisfied: msrest>=0.6.10 in c:\\users\\kinfeylo\\appdata\\local\\miniforge3\\envs\\agentframeworkenv\\lib\\site-packages (from azure-monitor-opentelemetry-exporter>=1.0.0b41->agent-framework-core) (0.7.1)\n",
            "Requirement already satisfied: psutil<8,>=5.9 in c:\\users\\kinfeylo\\appdata\\local\\miniforge3\\envs\\agentframeworkenv\\lib\\site-packages (from azure-monitor-opentelemetry-exporter>=1.0.0b41->agent-framework-core) (7.1.0)\n",
            "Requirement already satisfied: importlib-metadata<8.8.0,>=6.0 in c:\\users\\kinfeylo\\appdata\\local\\miniforge3\\envs\\agentframeworkenv\\lib\\site-packages (from opentelemetry-api>=1.24->agent-framework-core) (8.7.0)\n",
            "Requirement already satisfied: zipp>=3.20 in c:\\users\\kinfeylo\\appdata\\local\\miniforge3\\envs\\agentframeworkenv\\lib\\site-packages (from importlib-metadata<8.8.0,>=6.0->opentelemetry-api>=1.24->agent-framework-core) (3.23.0)\n",
            "Requirement already satisfied: opentelemetry-instrumentation-wsgi==0.58b0 in c:\\users\\kinfeylo\\appdata\\local\\miniforge3\\envs\\agentframeworkenv\\lib\\site-packages (from opentelemetry-instrumentation-django~=0.57b0->azure-monitor-opentelemetry>=1.7.0->agent-framework-core) (0.58b0)\n",
            "Requirement already satisfied: opentelemetry-instrumentation==0.58b0 in c:\\users\\kinfeylo\\appdata\\local\\miniforge3\\envs\\agentframeworkenv\\lib\\site-packages (from opentelemetry-instrumentation-django~=0.57b0->azure-monitor-opentelemetry>=1.7.0->agent-framework-core) (0.58b0)\n",
            "Requirement already satisfied: opentelemetry-semantic-conventions==0.58b0 in c:\\users\\kinfeylo\\appdata\\local\\miniforge3\\envs\\agentframeworkenv\\lib\\site-packages (from opentelemetry-instrumentation-django~=0.57b0->azure-monitor-opentelemetry>=1.7.0->agent-framework-core) (0.58b0)\n",
            "Requirement already satisfied: opentelemetry-util-http==0.58b0 in c:\\users\\kinfeylo\\appdata\\local\\miniforge3\\envs\\agentframeworkenv\\lib\\site-packages (from opentelemetry-instrumentation-django~=0.57b0->azure-monitor-opentelemetry>=1.7.0->agent-framework-core) (0.58b0)\n",
            "Requirement already satisfied: packaging>=18.0 in c:\\users\\kinfeylo\\appdata\\local\\miniforge3\\envs\\agentframeworkenv\\lib\\site-packages (from opentelemetry-instrumentation==0.58b0->opentelemetry-instrumentation-django~=0.57b0->azure-monitor-opentelemetry>=1.7.0->agent-framework-core) (25.0)\n",
            "Requirement already satisfied: wrapt<2.0.0,>=1.0.0 in c:\\users\\kinfeylo\\appdata\\local\\miniforge3\\envs\\agentframeworkenv\\lib\\site-packages (from opentelemetry-instrumentation==0.58b0->opentelemetry-instrumentation-django~=0.57b0->azure-monitor-opentelemetry>=1.7.0->agent-framework-core) (1.17.3)\n",
            "Requirement already satisfied: opentelemetry-instrumentation-asgi==0.58b0 in c:\\users\\kinfeylo\\appdata\\local\\miniforge3\\envs\\agentframeworkenv\\lib\\site-packages (from opentelemetry-instrumentation-fastapi~=0.57b0->azure-monitor-opentelemetry>=1.7.0->agent-framework-core) (0.58b0)\n",
            "Requirement already satisfied: asgiref~=3.0 in c:\\users\\kinfeylo\\appdata\\local\\miniforge3\\envs\\agentframeworkenv\\lib\\site-packages (from opentelemetry-instrumentation-asgi==0.58b0->opentelemetry-instrumentation-fastapi~=0.57b0->azure-monitor-opentelemetry>=1.7.0->agent-framework-core) (3.9.2)\n",
            "Requirement already satisfied: opentelemetry-instrumentation-dbapi==0.58b0 in c:\\users\\kinfeylo\\appdata\\local\\miniforge3\\envs\\agentframeworkenv\\lib\\site-packages (from opentelemetry-instrumentation-psycopg2~=0.57b0->azure-monitor-opentelemetry>=1.7.0->agent-framework-core) (0.58b0)\n",
            "Requirement already satisfied: cffi>=2.0.0 in c:\\users\\kinfeylo\\appdata\\local\\miniforge3\\envs\\agentframeworkenv\\lib\\site-packages (from cryptography>=2.5->azure-identity<2,>=1->agent-framework-core) (2.0.0)\n",
            "Requirement already satisfied: pycparser in c:\\users\\kinfeylo\\appdata\\local\\miniforge3\\envs\\agentframeworkenv\\lib\\site-packages (from cffi>=2.0.0->cryptography>=2.5->azure-identity<2,>=1->agent-framework-core) (2.23)\n",
            "Requirement already satisfied: anyio>=4.5 in c:\\users\\kinfeylo\\appdata\\local\\miniforge3\\envs\\agentframeworkenv\\lib\\site-packages (from mcp>=1.13->mcp[ws]>=1.13->agent-framework-core) (4.11.0)\n",
            "Requirement already satisfied: httpx-sse>=0.4 in c:\\users\\kinfeylo\\appdata\\local\\miniforge3\\envs\\agentframeworkenv\\lib\\site-packages (from mcp>=1.13->mcp[ws]>=1.13->agent-framework-core) (0.4.1)\n",
            "Requirement already satisfied: httpx>=0.27.1 in c:\\users\\kinfeylo\\appdata\\local\\miniforge3\\envs\\agentframeworkenv\\lib\\site-packages (from mcp>=1.13->mcp[ws]>=1.13->agent-framework-core) (0.28.1)\n",
            "Requirement already satisfied: jsonschema>=4.20.0 in c:\\users\\kinfeylo\\appdata\\local\\miniforge3\\envs\\agentframeworkenv\\lib\\site-packages (from mcp>=1.13->mcp[ws]>=1.13->agent-framework-core) (4.25.1)\n",
            "Requirement already satisfied: python-multipart>=0.0.9 in c:\\users\\kinfeylo\\appdata\\local\\miniforge3\\envs\\agentframeworkenv\\lib\\site-packages (from mcp>=1.13->mcp[ws]>=1.13->agent-framework-core) (0.0.20)\n",
            "Requirement already satisfied: pywin32>=310 in c:\\users\\kinfeylo\\appdata\\local\\miniforge3\\envs\\agentframeworkenv\\lib\\site-packages (from mcp>=1.13->mcp[ws]>=1.13->agent-framework-core) (311)\n",
            "Requirement already satisfied: sse-starlette>=1.6.1 in c:\\users\\kinfeylo\\appdata\\local\\miniforge3\\envs\\agentframeworkenv\\lib\\site-packages (from mcp>=1.13->mcp[ws]>=1.13->agent-framework-core) (3.0.2)\n",
            "Requirement already satisfied: starlette>=0.27 in c:\\users\\kinfeylo\\appdata\\local\\miniforge3\\envs\\agentframeworkenv\\lib\\site-packages (from mcp>=1.13->mcp[ws]>=1.13->agent-framework-core) (0.48.0)\n",
            "Requirement already satisfied: uvicorn>=0.31.1 in c:\\users\\kinfeylo\\appdata\\local\\miniforge3\\envs\\agentframeworkenv\\lib\\site-packages (from mcp>=1.13->mcp[ws]>=1.13->agent-framework-core) (0.37.0)\n",
            "Requirement already satisfied: idna>=2.8 in c:\\users\\kinfeylo\\appdata\\local\\miniforge3\\envs\\agentframeworkenv\\lib\\site-packages (from anyio>=4.5->mcp>=1.13->mcp[ws]>=1.13->agent-framework-core) (3.10)\n",
            "Requirement already satisfied: sniffio>=1.1 in c:\\users\\kinfeylo\\appdata\\local\\miniforge3\\envs\\agentframeworkenv\\lib\\site-packages (from anyio>=4.5->mcp>=1.13->mcp[ws]>=1.13->agent-framework-core) (1.3.1)\n",
            "Requirement already satisfied: certifi in c:\\users\\kinfeylo\\appdata\\local\\miniforge3\\envs\\agentframeworkenv\\lib\\site-packages (from httpx>=0.27.1->mcp>=1.13->mcp[ws]>=1.13->agent-framework-core) (2025.8.3)\n",
            "Requirement already satisfied: httpcore==1.* in c:\\users\\kinfeylo\\appdata\\local\\miniforge3\\envs\\agentframeworkenv\\lib\\site-packages (from httpx>=0.27.1->mcp>=1.13->mcp[ws]>=1.13->agent-framework-core) (1.0.9)\n",
            "Requirement already satisfied: h11>=0.16 in c:\\users\\kinfeylo\\appdata\\local\\miniforge3\\envs\\agentframeworkenv\\lib\\site-packages (from httpcore==1.*->httpx>=0.27.1->mcp>=1.13->mcp[ws]>=1.13->agent-framework-core) (0.16.0)\n",
            "Requirement already satisfied: attrs>=22.2.0 in c:\\users\\kinfeylo\\appdata\\local\\miniforge3\\envs\\agentframeworkenv\\lib\\site-packages (from jsonschema>=4.20.0->mcp>=1.13->mcp[ws]>=1.13->agent-framework-core) (25.3.0)\n",
            "Requirement already satisfied: jsonschema-specifications>=2023.03.6 in c:\\users\\kinfeylo\\appdata\\local\\miniforge3\\envs\\agentframeworkenv\\lib\\site-packages (from jsonschema>=4.20.0->mcp>=1.13->mcp[ws]>=1.13->agent-framework-core) (2025.9.1)\n",
            "Requirement already satisfied: referencing>=0.28.4 in c:\\users\\kinfeylo\\appdata\\local\\miniforge3\\envs\\agentframeworkenv\\lib\\site-packages (from jsonschema>=4.20.0->mcp>=1.13->mcp[ws]>=1.13->agent-framework-core) (0.36.2)\n",
            "Requirement already satisfied: rpds-py>=0.7.1 in c:\\users\\kinfeylo\\appdata\\local\\miniforge3\\envs\\agentframeworkenv\\lib\\site-packages (from jsonschema>=4.20.0->mcp>=1.13->mcp[ws]>=1.13->agent-framework-core) (0.27.1)\n",
            "Requirement already satisfied: websockets>=15.0.1 in c:\\users\\kinfeylo\\appdata\\local\\miniforge3\\envs\\agentframeworkenv\\lib\\site-packages (from mcp[ws]>=1.13->agent-framework-core) (15.0.1)\n",
            "Requirement already satisfied: PyJWT<3,>=1.0.0 in c:\\users\\kinfeylo\\appdata\\local\\miniforge3\\envs\\agentframeworkenv\\lib\\site-packages (from PyJWT[crypto]<3,>=1.0.0->msal>=1.30.0->azure-identity<2,>=1->agent-framework-core) (2.10.1)\n",
            "Requirement already satisfied: charset_normalizer<4,>=2 in c:\\users\\kinfeylo\\appdata\\local\\miniforge3\\envs\\agentframeworkenv\\lib\\site-packages (from requests>=2.21.0->azure-core>=1.31.0->azure-identity<2,>=1->agent-framework-core) (3.4.3)\n",
            "Requirement already satisfied: urllib3<3,>=1.21.1 in c:\\users\\kinfeylo\\appdata\\local\\miniforge3\\envs\\agentframeworkenv\\lib\\site-packages (from requests>=2.21.0->azure-core>=1.31.0->azure-identity<2,>=1->agent-framework-core) (2.5.0)\n",
            "Requirement already satisfied: isodate>=0.6.0 in c:\\users\\kinfeylo\\appdata\\local\\miniforge3\\envs\\agentframeworkenv\\lib\\site-packages (from msrest>=0.6.10->azure-monitor-opentelemetry-exporter>=1.0.0b41->agent-framework-core) (0.7.2)\n",
            "Requirement already satisfied: requests-oauthlib>=0.5.0 in c:\\users\\kinfeylo\\appdata\\local\\miniforge3\\envs\\agentframeworkenv\\lib\\site-packages (from msrest>=0.6.10->azure-monitor-opentelemetry-exporter>=1.0.0b41->agent-framework-core) (2.0.0)\n",
            "Requirement already satisfied: distro<2,>=1.7.0 in c:\\users\\kinfeylo\\appdata\\local\\miniforge3\\envs\\agentframeworkenv\\lib\\site-packages (from openai>=1.99.0->agent-framework-core) (1.9.0)\n",
            "Requirement already satisfied: jiter<1,>=0.4.0 in c:\\users\\kinfeylo\\appdata\\local\\miniforge3\\envs\\agentframeworkenv\\lib\\site-packages (from openai>=1.99.0->agent-framework-core) (0.11.0)\n",
            "Requirement already satisfied: tqdm>4 in c:\\users\\kinfeylo\\appdata\\local\\miniforge3\\envs\\agentframeworkenv\\lib\\site-packages (from openai>=1.99.0->agent-framework-core) (4.67.1)\n",
            "Requirement already satisfied: googleapis-common-protos~=1.57 in c:\\users\\kinfeylo\\appdata\\local\\miniforge3\\envs\\agentframeworkenv\\lib\\site-packages (from opentelemetry-exporter-otlp-proto-grpc>=1.36.0->agent-framework-core) (1.70.0)\n",
            "Requirement already satisfied: grpcio<2.0.0,>=1.63.2 in c:\\users\\kinfeylo\\appdata\\local\\miniforge3\\envs\\agentframeworkenv\\lib\\site-packages (from opentelemetry-exporter-otlp-proto-grpc>=1.36.0->agent-framework-core) (1.75.1)\n",
            "Requirement already satisfied: opentelemetry-exporter-otlp-proto-common==1.37.0 in c:\\users\\kinfeylo\\appdata\\local\\miniforge3\\envs\\agentframeworkenv\\lib\\site-packages (from opentelemetry-exporter-otlp-proto-grpc>=1.36.0->agent-framework-core) (1.37.0)\n",
            "Requirement already satisfied: opentelemetry-proto==1.37.0 in c:\\users\\kinfeylo\\appdata\\local\\miniforge3\\envs\\agentframeworkenv\\lib\\site-packages (from opentelemetry-exporter-otlp-proto-grpc>=1.36.0->agent-framework-core) (1.37.0)\n",
            "Requirement already satisfied: protobuf<7.0,>=5.0 in c:\\users\\kinfeylo\\appdata\\local\\miniforge3\\envs\\agentframeworkenv\\lib\\site-packages (from opentelemetry-proto==1.37.0->opentelemetry-exporter-otlp-proto-grpc>=1.36.0->agent-framework-core) (6.32.1)\n",
            "Requirement already satisfied: oauthlib>=3.0.0 in c:\\users\\kinfeylo\\appdata\\local\\miniforge3\\envs\\agentframeworkenv\\lib\\site-packages (from requests-oauthlib>=0.5.0->msrest>=0.6.10->azure-monitor-opentelemetry-exporter>=1.0.0b41->agent-framework-core) (3.3.1)\n",
            "Requirement already satisfied: colorama in c:\\users\\kinfeylo\\appdata\\local\\miniforge3\\envs\\agentframeworkenv\\lib\\site-packages (from tqdm>4->openai>=1.99.0->agent-framework-core) (0.4.6)\n",
            "Requirement already satisfied: click>=7.0 in c:\\users\\kinfeylo\\appdata\\local\\miniforge3\\envs\\agentframeworkenv\\lib\\site-packages (from uvicorn>=0.31.1->mcp>=1.13->mcp[ws]>=1.13->agent-framework-core) (8.3.0)\n"
          ]
        }
      ],
      "source": [
        "! pip install agent-framework-core -U"
      ]
    },
    {
      "cell_type": "code",
      "execution_count": 2,
      "id": "c0df8a52",
      "metadata": {},
      "outputs": [],
      "source": [
        "# 📦 Import Required Libraries\n",
        "# Standard library imports for system operations and random number generation\n",
        "import os\n",
        "from random import randint\n",
        "\n",
        "# Third-party library for loading environment variables from .env file\n",
        "from dotenv import load_dotenv"
      ]
    },
    {
      "cell_type": "code",
      "execution_count": 3,
      "id": "151e0314",
      "metadata": {},
      "outputs": [],
      "source": [
        "# 🤖 Import Microsoft Agent Framework Components\n",
        "# ChatAgent: The main agent class for conversational AI\n",
        "# OpenAIChatClient: Client for connecting to OpenAI-compatible APIs (including GitHub Models)\n",
        "from agent_framework import ChatAgent\n",
        "from agent_framework.openai import OpenAIChatClient"
      ]
    },
    {
      "cell_type": "code",
      "execution_count": 4,
      "id": "a6141584",
      "metadata": {},
      "outputs": [
        {
          "data": {
            "text/plain": [
              "True"
            ]
          },
          "execution_count": 4,
          "metadata": {},
          "output_type": "execute_result"
        }
      ],
      "source": [
        "# 🔧 Load Environment Variables\n",
        "# This loads configuration from a .env file in the project root\n",
        "# Required variables: GITHUB_ENDPOINT, GITHUB_TOKEN, GITHUB_MODEL_ID\n",
        "load_dotenv()"
      ]
    },
    {
      "cell_type": "code",
      "execution_count": 5,
      "id": "a6507f83",
      "metadata": {},
      "outputs": [],
      "source": [
        "# 🎲 Tool Function: Random Destination Generator\n",
        "# This function will be available to the agent as a tool\n",
        "# The agent can call this function to get random vacation destinations\n",
        "def get_random_destination() -> str:\n",
        "    \"\"\"Get a random vacation destination.\n",
        "    \n",
        "    Returns:\n",
        "        str: A randomly selected destination from our predefined list\n",
        "    \"\"\"\n",
        "    # List of popular vacation destinations around the world\n",
        "    destinations = [\n",
        "        \"Barcelona, Spain\",\n",
        "        \"Paris, France\", \n",
        "        \"Berlin, Germany\",\n",
        "        \"Tokyo, Japan\",\n",
        "        \"Sydney, Australia\",\n",
        "        \"New York, USA\",\n",
        "        \"Cairo, Egypt\",\n",
        "        \"Cape Town, South Africa\",\n",
        "        \"Rio de Janeiro, Brazil\",\n",
        "        \"Bali, Indonesia\"\n",
        "    ]\n",
        "    # Return a random destination from the list\n",
        "    return destinations[randint(0, len(destinations) - 1)]"
      ]
    },
    {
      "cell_type": "code",
      "execution_count": 6,
      "id": "5d4f0568",
      "metadata": {},
      "outputs": [],
      "source": [
        "# 🔗 Create OpenAI Chat Client for GitHub Models\n",
        "# This client connects to GitHub Models API (OpenAI-compatible endpoint)\n",
        "# Environment variables required:\n",
        "# - GITHUB_ENDPOINT: API endpoint URL (usually https://models.inference.ai.azure.com)\n",
        "# - GITHUB_TOKEN: Your GitHub personal access token\n",
        "# - GITHUB_MODEL_ID: Model to use (e.g., gpt-4o-mini, gpt-4o)\n",
        "openai_chat_client = OpenAIChatClient(\n",
        "    base_url=os.environ.get(\"GITHUB_ENDPOINT\"),\n",
        "    api_key=os.environ.get(\"GITHUB_TOKEN\"), \n",
        "    model_id=os.environ.get(\"GITHUB_MODEL_ID\")\n",
        ")"
      ]
    },
    {
      "cell_type": "code",
      "execution_count": 7,
      "id": "cf5a4800",
      "metadata": {},
      "outputs": [],
      "source": [
        "# 🤖 Create the Travel Planning Agent\n",
        "# This creates a conversational AI agent with specific capabilities:\n",
        "# - chat_client: The AI model client for generating responses\n",
        "# - instructions: System prompt that defines the agent's personality and role\n",
        "# - tools: List of functions the agent can call to perform actions\n",
        "agent = ChatAgent(\n",
        "    chat_client=openai_chat_client,\n",
        "    instructions=\"You are a helpful AI Agent that can help plan vacations for customers at random destinations.\",\n",
        "    tools=[get_random_destination]  # Our random destination tool function\n",
        ")"
      ]
    },
    {
      "cell_type": "code",
      "execution_count": 8,
      "id": "772e9481",
      "metadata": {},
      "outputs": [],
      "source": [
        "# 🚀 Run the Agent\n",
        "# Send a message to the agent and get a response\n",
        "# The agent will use its tools (get_random_destination) if needed\n",
        "response = await agent.run(\"Plan me a day trip\")"
      ]
    },
    {
      "cell_type": "code",
      "execution_count": 9,
      "id": "93c114ea",
      "metadata": {},
      "outputs": [
        {
          "data": {
            "text/plain": [
              "<agent_framework._types.AgentRunResponse at 0x13d967e4260>"
            ]
          },
          "execution_count": 9,
          "metadata": {},
          "output_type": "execute_result"
        }
      ],
      "source": [
        "# 📋 View Raw Response Object\n",
        "# This shows the complete response structure including metadata\n",
        "# Useful for debugging and understanding the response format\n",
        "response"
      ]
    },
    {
      "cell_type": "code",
      "execution_count": 10,
      "id": "a731b547",
      "metadata": {},
      "outputs": [
        {
          "name": "stdout",
          "output_type": "stream",
          "text": [
            "🏖️ Travel plan:\n",
            "How about a day trip to Cairo, Egypt? Here’s a suggested itinerary for your adventure:\n",
            "\n",
            "### Morning\n",
            "- **Breakfast:** Start your day with a traditional Egyptian breakfast at a local café. Try \"foul medames\" (stewed fava beans) and \"ta’ameya\" (Egyptian falafel).\n",
            "  \n",
            "- **Visit the Giza Pyramids:** Head to the Giza Plateau to explore the iconic Pyramids of Giza and the Sphinx. Consider taking a guided tour to learn about their history.\n",
            "\n",
            "### Afternoon\n",
            "- **Lunch:** Enjoy a delicious meal at a local restaurant with views of the pyramids. Sample traditional dishes such as grilled kebabs or koshari.\n",
            "\n",
            "- **Egyptian Museum:** After lunch, visit the Egyptian Museum in Tahrir Square, where you can marvel at the extensive collection of ancient artifacts, including the treasures of Tutankhamun.\n",
            "\n",
            "### Evening\n",
            "- **Khan el-Khalili Bazaar:** Stroll through this historic bazaar, where you can shop for souvenirs, spices, and traditional crafts. Don’t forget to haggle!\n",
            "\n",
            "- **Dinner:** Enjoy dinner at a local eatery, perhaps trying some Egyptian moussaka or grilled fish. \n",
            "\n",
            "- **Optional Nile River Cruise:** End your day with a relaxing cruise on the Nile, enjoying the views of the city as the sun sets.\n",
            "\n",
            "### Tips:\n",
            "- Wear comfortable shoes as you'll be walking a lot.\n",
            "- Stay hydrated, especially if you're visiting during the warmer months.\n",
            "- Respect local customs and dress modestly when visiting religious sites.\n",
            "\n",
            "Enjoy your day trip to Cairo!\n"
          ]
        }
      ],
      "source": [
        "# 📖 Extract and Display the Travel Plan\n",
        "# Get the last message from the conversation (agent's response)s\n",
        "last_message = response.messages[-1]\n",
        "# Extract the text content from the message\n",
        "text_content = last_message.contents[0].text\n",
        "# Display the formatted travel plan\n",
        "print(\"🏖️ Travel plan:\")\n",
        "print(text_content)"
      ]
    }
  ],
  "metadata": {
    "kernelspec": {
      "display_name": "agentframeworkenv",
      "language": "python",
      "name": "python3"
    },
    "language_info": {
      "codemirror_mode": {
        "name": "ipython",
        "version": 3
      },
      "file_extension": ".py",
      "mimetype": "text/x-python",
      "name": "python",
      "nbconvert_exporter": "python",
      "pygments_lexer": "ipython3",
      "version": "3.12.10"
    },
    "polyglot_notebook": {
      "kernelInfo": {
        "defaultKernelName": "csharp",
        "items": [
          {
            "aliases": [],
            "name": "csharp"
          }
        ]
      }
    }
  },
  "nbformat": 4,
  "nbformat_minor": 5
}
