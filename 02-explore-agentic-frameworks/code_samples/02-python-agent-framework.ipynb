{
  "cells": [
    {
      "cell_type": "markdown",
      "id": "374051ac",
      "metadata": {},
      "source": [
        "# 🔍 Exploring Agentic Frameworks - Basic Agent (Python)\n",
        "\n",
        "## 📋 Learning Objectives\n",
        "\n",
        "This notebook explores the fundamental concepts of the Microsoft Agent Framework through a basic agent implementation. You'll learn core agentic patterns and understand how intelligent agents work under the hood.\n",
        "\n",
        "**What You'll Discover:**\n",
        "- 🏗️ **Agent Architecture**: Understanding the basic structure of AI agents\n",
        "- 🛠️ **Tool Integration**: How agents use external functions to extend capabilities  \n",
        "- 💬 **Conversation Flow**: Managing multi-turn conversations and context\n",
        "- 🔧 **Configuration Patterns**: Best practices for agent setup and management\n",
        "\n",
        "## 🎯 Key Concepts Covered\n",
        "\n",
        "### Agentic Framework Principles\n",
        "- **Autonomy**: How agents make independent decisions\n",
        "- **Reactivity**: Responding to environmental changes and user inputs\n",
        "- **Proactivity**: Taking initiative based on goals and context\n",
        "- **Social Ability**: Interacting through natural language\n",
        "\n",
        "### Technical Components\n",
        "- **ChatAgent**: Core agent orchestration and conversation management\n",
        "- **Tool Functions**: Extending agent capabilities with custom functions\n",
        "- **OpenAI Integration**: Leveraging language models through standardized APIs\n",
        "- **Environment Management**: Secure configuration and credential handling\n",
        "\n",
        "## ⚙️ Prerequisites & Setup\n",
        "\n",
        "**Required Dependencies:**\n",
        "```bash\n",
        "\n",
        "pip uninstall agent-framework-core -y\n",
        "pip uninstall agent-framework-azure-ai -y\n",
        "\n",
        "pip install -r ../../Installation/requirements.txt  -U\n",
        "```\n",
        "\n",
        "**Environment Configuration (.env file):**\n",
        "```env\n",
        "GITHUB_TOKEN=your_github_personal_access_token\n",
        "GITHUB_ENDPOINT=https://models.inference.ai.azure.com\n",
        "GITHUB_MODEL_ID=gpt-4o-mini\n",
        "```\n",
        "\n",
        "## 🔧 Technical Stack\n",
        "\n",
        "**Core Technologies:**\n",
        "- Microsoft Agent Framework (Python)\n",
        "- GitHub Models API integration\n",
        "- OpenAI-compatible client patterns\n",
        "- Environment-based configuration\n",
        "\n",
        "**Agent Capabilities:**\n",
        "- Natural language understanding and generation\n",
        "- Function calling and tool usage\n",
        "- Context-aware responses\n",
        "- Extensible architecture\n",
        "\n",
        "## 📚 Framework Comparison\n",
        "\n",
        "This example demonstrates the Microsoft Agent Framework approach compared to other agentic frameworks:\n",
        "\n",
        "| Feature | Microsoft Agent Framework | Other Frameworks |\n",
        "|---------|-------------------------|------------------|\n",
        "| **Integration** | Native Microsoft ecosystem | Varied compatibility |\n",
        "| **Simplicity** | Clean, intuitive API | Often complex setup |\n",
        "| **Extensibility** | Easy tool integration | Framework-dependent |\n",
        "| **Enterprise Ready** | Built for production | Varies by framework |\n",
        "\n",
        "## 🚀 Getting Started\n",
        "\n",
        "Follow the cells below to build your first basic agent and understand foundational agentic concepts!"
      ]
    },
    {
      "cell_type": "code",
      "execution_count": 1,
      "id": "c0df8a52",
      "metadata": {},
      "outputs": [],
      "source": [
        "# 📚 Exploring Agentic Frameworks - Basic Agent Example\n",
        "# This example demonstrates core concepts of the Microsoft Agent Framework\n",
        "\n",
        "# 📦 Import Required Libraries\n",
        "import os                     # For environment variable access\n",
        "from random import randint    # For generating random selections\n",
        "\n",
        "from dotenv import load_dotenv  # For loading .env configuration files"
      ]
    },
    {
      "cell_type": "code",
      "execution_count": 2,
      "id": "151e0314",
      "metadata": {},
      "outputs": [],
      "source": [
        "# 🤖 Import Core Agent Framework Components\n",
        "# ChatAgent: The main conversational agent class\n",
        "# OpenAIChatClient: Client for connecting to OpenAI-compatible APIs\n",
        "from agent_framework import ChatAgent\n",
        "from agent_framework.openai import OpenAIChatClient"
      ]
    },
    {
      "cell_type": "code",
      "execution_count": 3,
      "id": "a6141584",
      "metadata": {},
      "outputs": [
        {
          "data": {
            "text/plain": [
              "True"
            ]
          },
          "execution_count": 3,
          "metadata": {},
          "output_type": "execute_result"
        }
      ],
      "source": [
        "# 🔧 Initialize Environment Configuration\n",
        "# Load environment variables from .env file\n",
        "# This enables secure storage of API keys and endpoints\n",
        "load_dotenv()"
      ]
    },
    {
      "cell_type": "code",
      "execution_count": 4,
      "id": "a6507f83",
      "metadata": {},
      "outputs": [],
      "source": [
        "# 🛠️ Tool Function: Random Destination Generator\n",
        "# This demonstrates how to create tools that agents can use\n",
        "# Tools extend the agent's capabilities beyond just conversation\n",
        "def get_random_destination() -> str:\n",
        "    \"\"\"Get a random vacation destination.\n",
        "    \n",
        "    This function serves as a tool that the agent can call when it needs\n",
        "    to suggest a random destination for travel planning.\n",
        "    \n",
        "    Returns:\n",
        "        str: A randomly selected destination from the predefined list\n",
        "    \"\"\"\n",
        "    # Curated list of popular vacation destinations worldwide\n",
        "    destinations = [\n",
        "        \"Barcelona, Spain\",\n",
        "        \"Paris, France\", \n",
        "        \"Berlin, Germany\",\n",
        "        \"Tokyo, Japan\",\n",
        "        \"Sydney, Australia\",\n",
        "        \"New York, USA\",\n",
        "        \"Cairo, Egypt\",\n",
        "        \"Cape Town, South Africa\",\n",
        "        \"Rio de Janeiro, Brazil\",\n",
        "        \"Bali, Indonesia\"\n",
        "    ]\n",
        "    # Return a randomly selected destination\n",
        "    return destinations[randint(0, len(destinations) - 1)]"
      ]
    },
    {
      "cell_type": "code",
      "execution_count": 5,
      "id": "5d4f0568",
      "metadata": {},
      "outputs": [],
      "source": [
        "# 🔗 Create OpenAI Chat Client\n",
        "# This demonstrates how to connect to GitHub Models (OpenAI-compatible API)\n",
        "# The client handles all communication with the AI model\n",
        "openai_chat_client = OpenAIChatClient(\n",
        "    base_url=os.environ.get(\"GITHUB_ENDPOINT\"),    # API endpoint URL\n",
        "    api_key=os.environ.get(\"GITHUB_TOKEN\"),        # Authentication token\n",
        "    model_id=os.environ.get(\"GITHUB_MODEL_ID\")  # Model identifier (e.g., gpt-4o-mini)\n",
        ")"
      ]
    },
    {
      "cell_type": "code",
      "execution_count": 6,
      "id": "cf5a4800",
      "metadata": {},
      "outputs": [],
      "source": [
        "# 🤖 Create the Basic Agent\n",
        "# This demonstrates the core agent creation pattern in the framework\n",
        "# Key components: chat client, instructions, and tools\n",
        "agent = ChatAgent(\n",
        "    chat_client=openai_chat_client,  # The AI model client for generating responses\n",
        "    instructions=\"You are a helpful AI Agent that can help plan vacations for customers at random destinations.\",  # System prompt defining agent behavior\n",
        "    tools=[get_random_destination]   # List of available tools the agent can use\n",
        ")"
      ]
    },
    {
      "cell_type": "code",
      "execution_count": 7,
      "id": "be18ac4f",
      "metadata": {},
      "outputs": [],
      "source": [
        "thread = agent.get_new_thread()"
      ]
    },
    {
      "cell_type": "code",
      "execution_count": 8,
      "id": "772e9481",
      "metadata": {},
      "outputs": [],
      "source": [
        "response1 = await agent.run(\"Plan me a day trip\",thread= thread)"
      ]
    },
    {
      "cell_type": "code",
      "execution_count": 9,
      "id": "a731b547",
      "metadata": {},
      "outputs": [
        {
          "name": "stdout",
          "output_type": "stream",
          "text": [
            "Travel plan:\n",
            "How about a day trip to Bali, Indonesia? Here's a suggested itinerary for your day:\n",
            "\n",
            "### Morning\n",
            "- **Sunrise at Mount Batur**: Start your day early with a sunrise hike to Mount Batur. The views from the summit are breathtaking and definitely worth the effort!\n",
            "- **Breakfast at a Local Warung**: After your descent, enjoy a traditional Indonesian breakfast at a nearby warung (local eatery).\n",
            "\n",
            "### Mid-Morning\n",
            "- **Visit the Tirta Empul Temple**: Head to this holy water temple for a unique experience. Participate in a purification ritual in the sacred springs.\n",
            "\n",
            "### Lunch\n",
            "- **Lunch at a Rice Terrace**: Visit Tegalalang Rice Terrace and enjoy lunch at a nearby café with stunning views of the lush green fields.\n",
            "\n",
            "### Afternoon\n",
            "- **Explore Ubud**: Spend some time exploring the artistic town of Ubud. Visit the Ubud Monkey Forest and various art galleries and shops.\n",
            "- **Visit a Local Spa**: Treat yourself to a relaxing Balinese massage at a local spa.\n",
            "\n",
            "### Evening\n",
            "- **Dinner in Seminyak**: Head to Seminyak for a fashionable dinner at one of the beachfront restaurants. Enjoy local seafood and fresh drinks while watching the sunset.\n",
            "\n",
            "### Night\n",
            "- **Walk on the Beach**: Conclude your day with a tranquil walk along the beach. Feel the sands and enjoy the sound of the waves.\n",
            "\n",
            "### Tips\n",
            "- Dress comfortably for hiking and bring a change of clothes for after the temple visit.\n",
            "- Don't forget to capture photos of the stunning landscapes!\n",
            "\n",
            "Let me know if you need more details!\n"
          ]
        }
      ],
      "source": [
        "\n",
        "last_message = response1.messages[-1]\n",
        "text_content = last_message.contents[0].text\n",
        "print(\"Travel plan:\")\n",
        "print(text_content)"
      ]
    },
    {
      "cell_type": "code",
      "execution_count": 10,
      "id": "7d3fe00a",
      "metadata": {},
      "outputs": [],
      "source": [
        "response2 = await agent.run(\"I don't like that destination. Plan me another vacation.\",thread= thread)"
      ]
    },
    {
      "cell_type": "code",
      "execution_count": 11,
      "id": "ba50c92d",
      "metadata": {},
      "outputs": [
        {
          "name": "stdout",
          "output_type": "stream",
          "text": [
            "Change plan:\n",
            "How about a vacation to Cairo, Egypt? Here's a suggested itinerary for your trip:\n",
            "\n",
            "### Day 1: Explore Ancient Wonders\n",
            "- **Visit the Pyramids of Giza**: Start your trip by visiting the iconic Pyramids of Giza and the Sphinx. Consider taking a guided tour to learn about the history and significance.\n",
            "- **Camel Ride**: Enjoy a memorable camel ride around the pyramids for a unique perspective.\n",
            "\n",
            "### Day 2: Discover Cairo's Culture\n",
            "- **Egyptian Museum**: Spend your morning at the Egyptian Museum, home to an extensive collection of ancient artifacts, including the treasures of Tutankhamun.\n",
            "- **Khan El Khalili Bazaar**: In the afternoon, wander through the vibrant alleyways of this famous market, where you can shop for souvenirs, spices, and handmade crafts.\n",
            "\n",
            "### Day 3: Islamic Cairo and Relaxation\n",
            "- **Islamic Architecture**: Visit historic mosques and buildings like the Mosque of Muhammad Ali and the Sultan Hassan Mosque.\n",
            "- **Nile Cruise Dinner**: In the evening, enjoy a relaxing dinner cruise on the Nile River with stunning views of the city lights.\n",
            "\n",
            "### Day 4: Visit Nearby Attractions\n",
            "- **Saqqara and Memphis**: Take a day trip to Saqqara to see the Step Pyramid of Djoser and then head to Memphis, the ancient capital of Egypt.\n",
            "- **Local Cuisine**: Try traditional Egyptian dishes such as koshari and falafel at a local restaurant.\n",
            "\n",
            "### Tips\n",
            "- Dress modestly, especially when visiting religious sites.\n",
            "- Be prepared for warm weather and stay hydrated.\n",
            "\n",
            "Let me know if there's something specific you'd like to change or if you want more information!\n"
          ]
        }
      ],
      "source": [
        "last_message = response2.messages[-1]\n",
        "text_content = last_message.contents[0].text\n",
        "print(\"Change plan:\")\n",
        "print(text_content)"
      ]
    }
  ],
  "metadata": {
    "kernelspec": {
      "display_name": "agentenv",
      "language": "python",
      "name": "python3"
    },
    "language_info": {
      "codemirror_mode": {
        "name": "ipython",
        "version": 3
      },
      "file_extension": ".py",
      "mimetype": "text/x-python",
      "name": "python",
      "nbconvert_exporter": "python",
      "pygments_lexer": "ipython3",
      "version": "3.12.10"
    },
    "polyglot_notebook": {
      "kernelInfo": {
        "defaultKernelName": "csharp",
        "items": [
          {
            "aliases": [],
            "name": "csharp"
          }
        ]
      }
    }
  },
  "nbformat": 4,
  "nbformat_minor": 5
}
