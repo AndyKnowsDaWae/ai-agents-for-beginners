{
  "cells": [
    {
      "cell_type": "markdown",
      "id": "c898efd9",
      "metadata": {},
      "source": [
        "# 🛠️ Advanced Tool Use with GitHub Models (.NET)\n",
        "\n",
        "## 📋 Learning Objectives\n",
        "\n",
        "This notebook demonstrates enterprise-grade tool integration patterns using the Microsoft Agent Framework in .NET with GitHub Models. You'll learn to build sophisticated agents with multiple specialized tools, leveraging C#'s strong typing and .NET's enterprise features.\n",
        "\n",
        "**Advanced Tool Capabilities You'll Master:**\n",
        "- 🔧 **Multi-Tool Architecture**: Building agents with multiple specialized capabilities\n",
        "- 🎯 **Type-Safe Tool Execution**: Leveraging C#'s compile-time validation\n",
        "- 📊 **Enterprise Tool Patterns**: Production-ready tool design and error handling\n",
        "- 🔗 **Tool Composition**: Combining tools for complex business workflows\n",
        "\n",
        "## 🎯 .NET Tool Architecture Benefits\n",
        "\n",
        "### Enterprise Tool Features\n",
        "- **Compile-Time Validation**: Strong typing ensures tool parameter correctness\n",
        "- **Dependency Injection**: IoC container integration for tool management\n",
        "- **Async/Await Patterns**: Non-blocking tool execution with proper resource management\n",
        "- **Structured Logging**: Built-in logging integration for tool execution monitoring\n",
        "\n",
        "### Production-Ready Patterns\n",
        "- **Exception Handling**: Comprehensive error management with typed exceptions\n",
        "- **Resource Management**: Proper disposal patterns and memory management\n",
        "- **Performance Monitoring**: Built-in metrics and performance counters\n",
        "- **Configuration Management**: Type-safe configuration with validation\n",
        "\n",
        "## 🔧 Technical Architecture\n",
        "\n",
        "### Core .NET Tool Components\n",
        "- **Microsoft.Extensions.AI**: Unified tool abstraction layer\n",
        "- **Microsoft.Agents.AI**: Enterprise-grade tool orchestration\n",
        "- **GitHub Models Integration**: High-performance API client with connection pooling\n",
        "\n",
        "### Tool Execution Pipeline\n",
        "```csharp\n",
        "User Request → Agent Analysis → Tool Selection → Type Validation\n",
        "                 ↓               ↓              ↓\n",
        "         Parameter Binding → Tool Execution → Result Processing → Response\n",
        "```\n",
        "\n",
        "## 🛠️ Tool Categories & Patterns\n",
        "\n",
        "### 1. **Data Processing Tools**\n",
        "- **Input Validation**: Strong typing with data annotations\n",
        "- **Transform Operations**: Type-safe data conversion and formatting\n",
        "- **Business Logic**: Domain-specific calculation and analysis tools\n",
        "- **Output Formatting**: Structured response generation\n",
        "\n",
        "### 2. **Integration Tools** \n",
        "- **API Connectors**: RESTful service integration with HttpClient\n",
        "- **Database Tools**: Entity Framework integration for data access\n",
        "- **File Operations**: Secure file system operations with validation\n",
        "- **External Services**: Third-party service integration patterns\n",
        "\n",
        "### 3. **Utility Tools**\n",
        "- **Text Processing**: String manipulation and formatting utilities\n",
        "- **Date/Time Operations**: Culture-aware date/time calculations\n",
        "- **Mathematical Tools**: Precision calculations and statistical operations\n",
        "- **Validation Tools**: Business rule validation and data verification\n",
        "\n",
        "## ⚙️ Prerequisites & Setup\n",
        "\n",
        "**Development Environment:**\n",
        "- .NET 9.0 SDK or higher\n",
        "- Visual Studio 2022 or VS Code with C# extension\n",
        "- GitHub Models API access\n",
        "\n",
        "**Required NuGet Packages:**\n",
        "```xml\n",
        "<PackageReference Include=\"Microsoft.Extensions.AI\" Version=\"9.9.0\" />\n",
        "<PackageReference Include=\"Microsoft.Extensions.AI.OpenAI\" Version=\"9.9.0-preview.1.25458.4\" />\n",
        "<PackageReference Include=\"DotNetEnv\" Version=\"3.1.1\" />\n",
        "```\n",
        "\n",
        "**Environment Configuration (.env file):**\n",
        "```env\n",
        "GITHUB_TOKEN=your_github_personal_access_token\n",
        "GITHUB_ENDPOINT=https://models.inference.ai.azure.com\n",
        "GITHUB_MODEL_ID=gpt-4o-mini\n",
        "```\n",
        "\n",
        "Ready to build enterprise-grade agents with powerful, type-safe tool capabilities in .NET? Let's architect some professional-grade solutions! 🏢⚡"
      ]
    },
    {
      "cell_type": "code",
      "execution_count": 1,
      "id": "2770ac5c",
      "metadata": {
        "language_info": {
          "name": "polyglot-notebook"
        },
        "polyglot_notebook": {
          "kernelName": "csharp"
        }
      },
      "outputs": [
        {
          "data": {
            "text/html": [
              "<div><div></div><div></div><div><strong>Installed Packages</strong><ul><li><span>Microsoft.Extensions.AI, 9.9.0</span></li></ul></div></div>"
            ]
          },
          "metadata": {},
          "output_type": "display_data"
        }
      ],
      "source": [
        "#r \"nuget: Microsoft.Extensions.AI, 9.9.0\""
      ]
    },
    {
      "cell_type": "code",
      "execution_count": 2,
      "id": "984ff6cd",
      "metadata": {
        "language_info": {
          "name": "polyglot-notebook"
        },
        "polyglot_notebook": {
          "kernelName": "csharp"
        }
      },
      "outputs": [],
      "source": [
        "#r \"C:\\Users\\kinfeylo\\Documents\\Agent\\agent-framework\\dotnet\\src\\Microsoft.Agents.AI.OpenAI\\bin\\Debug\\net9.0\\Microsoft.Agents.AI.OpenAI.dll\""
      ]
    },
    {
      "cell_type": "code",
      "execution_count": 3,
      "id": "0ab71360",
      "metadata": {
        "language_info": {
          "name": "polyglot-notebook"
        },
        "polyglot_notebook": {
          "kernelName": "csharp"
        }
      },
      "outputs": [],
      "source": [
        "#r \"C:\\Users\\kinfeylo\\Documents\\Agent\\agent-framework\\dotnet\\src\\Microsoft.Agents.AI\\bin\\Debug\\net9.0\\Microsoft.Agents.AI.dll\""
      ]
    },
    {
      "cell_type": "code",
      "execution_count": 4,
      "id": "4ab7b15d",
      "metadata": {
        "language_info": {
          "name": "polyglot-notebook"
        },
        "polyglot_notebook": {
          "kernelName": "csharp"
        }
      },
      "outputs": [
        {
          "data": {
            "text/html": [
              "<div><div></div><div></div><div><strong>Installed Packages</strong><ul><li><span>Microsoft.Extensions.AI.OpenAI, 9.9.0-preview.1.25458.4</span></li></ul></div></div>"
            ]
          },
          "metadata": {},
          "output_type": "display_data"
        }
      ],
      "source": [
        "#r \"nuget: Microsoft.Extensions.AI.OpenAI, 9.9.0-preview.1.25458.4\""
      ]
    },
    {
      "cell_type": "code",
      "execution_count": 5,
      "id": "3fa8aa21",
      "metadata": {
        "language_info": {
          "name": "polyglot-notebook"
        },
        "polyglot_notebook": {
          "kernelName": "csharp"
        }
      },
      "outputs": [
        {
          "data": {
            "text/html": [
              "<div><div></div><div></div><div><strong>Installed Packages</strong><ul><li><span>DotNetEnv, 3.1.1</span></li></ul></div></div>"
            ]
          },
          "metadata": {},
          "output_type": "display_data"
        }
      ],
      "source": [
        "#r \"nuget: DotNetEnv, 3.1.1\""
      ]
    },
    {
      "cell_type": "code",
      "execution_count": 6,
      "id": "fc8ee8ea",
      "metadata": {
        "language_info": {
          "name": "polyglot-notebook"
        },
        "polyglot_notebook": {
          "kernelName": "csharp"
        }
      },
      "outputs": [],
      "source": [
        "using System;\n",
        "using System.ComponentModel;\n",
        "using System.ClientModel;\n",
        "\n",
        "using Microsoft.Extensions.AI;\n",
        "using Microsoft.Agents.AI;\n",
        "using OpenAI;"
      ]
    },
    {
      "cell_type": "code",
      "execution_count": 7,
      "id": "699b1c83",
      "metadata": {
        "language_info": {
          "name": "polyglot-notebook"
        },
        "polyglot_notebook": {
          "kernelName": "csharp"
        }
      },
      "outputs": [],
      "source": [
        " using DotNetEnv;"
      ]
    },
    {
      "cell_type": "code",
      "execution_count": 8,
      "id": "daa649a0",
      "metadata": {
        "language_info": {
          "name": "polyglot-notebook"
        },
        "polyglot_notebook": {
          "kernelName": "csharp"
        }
      },
      "outputs": [],
      "source": [
        "Env.Load(\"../../../.env\");"
      ]
    },
    {
      "cell_type": "code",
      "execution_count": 9,
      "id": "29661a90",
      "metadata": {
        "language_info": {
          "name": "polyglot-notebook"
        },
        "polyglot_notebook": {
          "kernelName": "csharp"
        }
      },
      "outputs": [],
      "source": [
        "[Description(\"Provides a random vacation destination.\")]\n",
        "static string GetRandomDestination()\n",
        "{\n",
        "    var destinations = new List<string>\n",
        "    {\n",
        "        \"Paris, France\",\n",
        "        \"Tokyo, Japan\",\n",
        "        \"New York City, USA\",\n",
        "        \"Sydney, Australia\",\n",
        "        \"Rome, Italy\",\n",
        "        \"Barcelona, Spain\",\n",
        "        \"Cape Town, South Africa\",\n",
        "        \"Rio de Janeiro, Brazil\",\n",
        "        \"Bangkok, Thailand\",\n",
        "        \"Vancouver, Canada\"\n",
        "    };\n",
        "\n",
        "    var random = new Random();\n",
        "    int index = random.Next(destinations.Count);\n",
        "    return destinations[index];\n",
        "}"
      ]
    },
    {
      "cell_type": "code",
      "execution_count": 10,
      "id": "d2ed1f8b",
      "metadata": {
        "language_info": {
          "name": "polyglot-notebook"
        },
        "polyglot_notebook": {
          "kernelName": "csharp"
        }
      },
      "outputs": [],
      "source": [
        "var github_endpoint = Environment.GetEnvironmentVariable(\"GITHUB_ENDPOINT\") ?? throw new InvalidOperationException(\"GITHUB_ENDPOINT is not set.\");\n",
        "var github_model_id = Environment.GetEnvironmentVariable(\"GITHUB_MODEL_ID\") ?? \"gpt-4o-mini\";\n",
        "var github_token = Environment.GetEnvironmentVariable(\"GITHUB_TOKEN\") ?? throw new InvalidOperationException(\"GITHUB_TOKEN is not set.\");"
      ]
    },
    {
      "cell_type": "code",
      "execution_count": 11,
      "id": "c36c73e1",
      "metadata": {
        "language_info": {
          "name": "polyglot-notebook"
        },
        "polyglot_notebook": {
          "kernelName": "csharp"
        }
      },
      "outputs": [],
      "source": [
        "var openAIOptions = new OpenAIClientOptions()\n",
        "{\n",
        "    Endpoint= new Uri(github_endpoint)\n",
        "};"
      ]
    },
    {
      "cell_type": "code",
      "execution_count": 12,
      "id": "6d94ff10",
      "metadata": {
        "language_info": {
          "name": "polyglot-notebook"
        },
        "polyglot_notebook": {
          "kernelName": "csharp"
        }
      },
      "outputs": [],
      "source": [
        "\n",
        "var openAIClient = new OpenAIClient(new ApiKeyCredential(github_token), openAIOptions);"
      ]
    },
    {
      "cell_type": "code",
      "execution_count": 13,
      "id": "fe32b57a",
      "metadata": {
        "language_info": {
          "name": "polyglot-notebook"
        },
        "polyglot_notebook": {
          "kernelName": "csharp"
        }
      },
      "outputs": [],
      "source": [
        "AIAgent agent = new OpenAIClient(new ApiKeyCredential(github_token), openAIOptions).GetChatClient(github_model_id).CreateAIAgent(\n",
        "    instructions:\"You are a helpful AI Agent that can help plan vacations for customers at random destinations\", tools: [AIFunctionFactory.Create((Func<string>)GetRandomDestination)]);"
      ]
    },
    {
      "cell_type": "code",
      "execution_count": 14,
      "id": "b8fe6800",
      "metadata": {
        "language_info": {
          "name": "polyglot-notebook"
        },
        "polyglot_notebook": {
          "kernelName": "csharp"
        }
      },
      "outputs": [],
      "source": [
        "AgentThread thread = agent.GetNewThread();"
      ]
    },
    {
      "cell_type": "code",
      "execution_count": 15,
      "id": "5e455aff",
      "metadata": {
        "language_info": {
          "name": "polyglot-notebook"
        },
        "polyglot_notebook": {
          "kernelName": "csharp"
        }
      },
      "outputs": [
        {
          "name": "stdout",
          "output_type": "stream",
          "text": [
            "How about a day trip to Cape Town, South Africa? Here's a suggested itinerary for your day:\n",
            "\n",
            "### Morning\n",
            "- **Breakfast**: Start your day with a hearty breakfast at one of Cape Town's charming cafés, like \"The Breakfast Room\" or \"Jarryds.\"\n",
            "- **Table Mountain**: After breakfast, take a hike or the cable car up Table Mountain for breathtaking views of the city and coastline.\n",
            "\n",
            "### Midday\n",
            "- **V&A Waterfront**: Head to the Victoria & Alfred Waterfront for shopping, exploring, and a leisurely lunch. You can choose from various restaurants, such as \"The Two Oceans Aquarium\" or \"Willoughby & Co\" for fresh seafood.\n",
            "\n",
            "### Afternoon\n",
            "- **Robben Island Tour**: Take a ferry from the V&A Waterfront to Robben Island, where Nelson Mandela was imprisoned. The tour provides rich historical insights and a chance to see the island's museum.\n",
            "\n",
            "### Evening\n",
            "- **Sunset at Camps Bay**: Head to Camps Bay beach to relax and enjoy the sunset. Grab a drink at one of the beachfront bars.\n",
            "- **Dinner**: Enjoy dinner at \"The Codfather,\" known for its fresh seafood and vibrant atmosphere.\n",
            "\n",
            "### Optional Activities\n",
            "- **Visit the Kirstenbosch Botanical Gardens**: If time permits, take a stroll through these beautiful gardens.\n",
            "- **Explore the Bo-Kaap**: Discover the colorful houses and rich cultural history of this neighborhood.\n",
            "\n",
            "Enjoy your day trip to Cape Town!\r\n"
          ]
        }
      ],
      "source": [
        "Console.WriteLine(await agent.RunAsync(\"Plan me a day trip\",thread));"
      ]
    },
    {
      "cell_type": "code",
      "execution_count": 16,
      "id": "592ae1bb",
      "metadata": {
        "language_info": {
          "name": "polyglot-notebook"
        },
        "polyglot_notebook": {
          "kernelName": "csharp"
        }
      },
      "outputs": [
        {
          "name": "stdout",
          "output_type": "stream",
          "text": [
            "How about a vacation to Barcelona, Spain? Here’s a suggested itinerary for a fun-packed trip:\n",
            "\n",
            "### Day 1: Arrival in Barcelona\n",
            "- **Check-In**: Arrive and check into your accommodation.\n",
            "- **Evening Stroll**: Take a leisurely walk along **La Rambla**, experiencing the vibrant atmosphere and street performers.\n",
            "- **Dinner**: Enjoy tapas at a local restaurant like **Tickets** or **La Paradeta** for a taste of authentic Spanish cuisine.\n",
            "\n",
            "### Day 2: Explore Gaudí's Masterpieces\n",
            "- **Morning**: Visit **Sagrada Família**, Gaudí’s iconic basilica. Make sure to book your tickets in advance.\n",
            "- **Afternoon**: Head to **Park Güell**, another famous Gaudí site, to explore its whimsical architecture and enjoy the views of the city.\n",
            "- **Evening**: Dine at a restaurant in the **Gothic Quarter** and experience the local nightlife.\n",
            "\n",
            "### Day 3: Culture and History\n",
            "- **Morning**: Visit the **Picasso Museum** to see a collection of works by the famous artist.\n",
            "- **Afternoon**: Explore **Barcelona Cathedral** and the surrounding old town. \n",
            "- **Evening**: Enjoy dinner at **Cervecería Catalana**, known for its tapas and local brews.\n",
            "\n",
            "### Day 4: Beach Day\n",
            "- **Morning**: Spend your day at **Barceloneta Beach**. Relax on the sand or take part in beach activities.\n",
            "- **Afternoon**: Have lunch at a beachside chiringuito (beach bar).\n",
            "- **Evening**: Stroll along the waterfront promenade and have dinner at a seafood restaurant like **La Guingueta**.\n",
            "\n",
            "### Day 5: Montjuïc and Departure\n",
            "- **Morning**: Visit **Montjuïc Hill**. Explore the castle and **Magic Fountain**. Take the cable car for stunning views.\n",
            "- **Afternoon**: Last-minute shopping in **El Born** or exploring local markets before your departure.\n",
            "\n",
            "Enjoy your vacation in Barcelona! If you'd like a different destination or more specific activities, just let me know!\r\n"
          ]
        }
      ],
      "source": [
        "Console.WriteLine(await agent.RunAsync(\"I don't like that destination. Plan me another vacation.\",thread));"
      ]
    }
  ],
  "metadata": {
    "kernelspec": {
      "display_name": ".NET (C#)",
      "language": "C#",
      "name": ".net-csharp"
    },
    "language_info": {
      "name": "polyglot-notebook"
    },
    "polyglot_notebook": {
      "kernelInfo": {
        "defaultKernelName": "csharp",
        "items": [
          {
            "aliases": [],
            "name": "csharp"
          }
        ]
      }
    }
  },
  "nbformat": 4,
  "nbformat_minor": 5
}
