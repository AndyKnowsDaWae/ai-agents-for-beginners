{
  "cells": [
    {
      "cell_type": "code",
      "execution_count": 1,
      "id": "97f08567",
      "metadata": {},
      "outputs": [],
      "source": [
        "import os\n",
        "\n",
        "from azure.identity.aio import AzureCliCredential\n",
        "from dotenv import load_dotenv\n",
        "\n",
        "from agent_framework import AgentRunResponse,ChatAgent,HostedFileSearchTool,HostedVectorStoreContent\n",
        "from agent_framework.azure import AzureAIAgentClient"
      ]
    },
    {
      "cell_type": "code",
      "execution_count": 2,
      "id": "2a3bcf9d",
      "metadata": {},
      "outputs": [
        {
          "data": {
            "text/plain": [
              "True"
            ]
          },
          "execution_count": 2,
          "metadata": {},
          "output_type": "execute_result"
        }
      ],
      "source": [
        "load_dotenv()"
      ]
    },
    {
      "cell_type": "code",
      "execution_count": 3,
      "id": "3d3ca050",
      "metadata": {},
      "outputs": [],
      "source": [
        "async def create_vector_store(client: AzureAIAgentClient) -> tuple[str, HostedVectorStoreContent]:\n",
        "    \"\"\"Create a vector store with sample documents.\"\"\"\n",
        "    file_path = './document.md'\n",
        "    file = await client.project_client.agents.files.upload_and_poll(file_path=file_path, purpose=\"assistants\")\n",
        "    print(f\"Uploaded file, file ID: {file.id}\")\n",
        "\n",
        "\n",
        "    vector_store = await client.project_client.agents.vector_stores.create_and_poll(file_ids=[file.id], name=\"graph_knowledge_base\")\n",
        "\n",
        "    print(f\"Created vector store, ID: {vector_store.id}\")\n",
        "\n",
        "\n",
        "    return file.id, HostedVectorStoreContent(vector_store_id=vector_store.id)"
      ]
    },
    {
      "cell_type": "code",
      "execution_count": 4,
      "id": "0aef5316",
      "metadata": {},
      "outputs": [
        {
          "name": "stdout",
          "output_type": "stream",
          "text": [
            "Uploaded file, file ID: assistant-PNWjR1f9DZwcohbBPJR4bN\n",
            "Created vector store, ID: vs_h41MCz0yMIPhchyxgHBAcHEO\n",
            "Agent created. You can now ask questions about the uploaded document.\n",
            "Contoso's travel insurance coverage includes the following:\n",
            "\n",
            "- Medical emergencies\n",
            "- Trip cancellations\n",
            "- Lost baggage\n",
            "\n",
            "This insurance is part of their premium travel services which also include luxury vacation packages and personalized itinerary planning with 24/7 concierge support【4:0†document.md】."
          ]
        }
      ],
      "source": [
        "async with (\n",
        "        AzureCliCredential() as credential,\n",
        "        AzureAIAgentClient(async_credential=credential) as chat_client,\n",
        "    ):\n",
        "        file_id, vector_store = await create_vector_store(chat_client)\n",
        "\n",
        "        file_search = HostedFileSearchTool(inputs=vector_store)\n",
        "        \n",
        "        agent = chat_client.create_agent(\n",
        "            name=\"PythonRAGDemo\",\n",
        "            instructions=\"\"\"\n",
        "                You are an AI assistant designed to answer user questions using only the information retrieved from the provided document(s).\n",
        "\n",
        "                - If a user's question cannot be answered using the retrieved context, **you must clearly respond**: \n",
        "                \"I'm sorry, but the uploaded document does not contain the necessary information to answer that question.\"\n",
        "                - Do not answer from general knowledge or reasoning. Do not make assumptions or generate hypothetical explanations.\n",
        "                - Do not provide definitions, tutorials, or commentary that is not explicitly grounded in the content of the uploaded file(s).\n",
        "                - If a user asks a question like \"What is a Neural Network?\", and this is not discussed in the uploaded document, respond as instructed above.\n",
        "                - For questions that do have relevant content in the document (e.g., Contoso's travel insurance coverage), respond accurately, and cite the document explicitly.\n",
        "\n",
        "                You must behave as if you have no external knowledge beyond what is retrieved from the uploaded document.\n",
        "                \"\"\",\n",
        "            tools=[file_search],  # Tools available to the agent\n",
        "            tool_choice = \"auto\",  # Let the agent decide when to use tools\n",
        "        )\n",
        "                \n",
        "\n",
        "        print(\"Agent created. You can now ask questions about the uploaded document.\")\n",
        "\n",
        "        query = \"Can you explain Contoso's travel insurance coverage?\"\n",
        "        async for chunk in agent.run_stream(query, tool_resources={\"file_search\": {\"vector_store_ids\": [vector_store.vector_store_id]}}):\n",
        "                \n",
        "            if chunk.text:\n",
        "                print(chunk.text, end=\"\", flush=True)"
      ]
    },
    {
      "cell_type": "code",
      "execution_count": null,
      "id": "03956e01",
      "metadata": {},
      "outputs": [],
      "source": []
    }
  ],
  "metadata": {
    "kernelspec": {
      "display_name": "agentenv",
      "language": "python",
      "name": "python3"
    },
    "language_info": {
      "codemirror_mode": {
        "name": "ipython",
        "version": 3
      },
      "file_extension": ".py",
      "mimetype": "text/x-python",
      "name": "python",
      "nbconvert_exporter": "python",
      "pygments_lexer": "ipython3",
      "version": "3.12.10"
    },
    "polyglot_notebook": {
      "kernelInfo": {
        "defaultKernelName": "csharp",
        "items": [
          {
            "aliases": [],
            "name": "csharp"
          }
        ]
      }
    }
  },
  "nbformat": 4,
  "nbformat_minor": 5
}
