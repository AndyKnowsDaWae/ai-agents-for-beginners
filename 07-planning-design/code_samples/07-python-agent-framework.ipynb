{
  "cells": [
    {
      "cell_type": "markdown",
      "id": "04b696ee",
      "metadata": {},
      "source": [
        "# 🎯 Planning & Design Patterns with GitHub Models (Python)\n",
        "\n",
        "## 📋 Learning Objectives\n",
        "\n",
        "This notebook demonstrates advanced planning and design patterns for building intelligent agents using the Microsoft Agent Framework with GitHub Models. You'll learn how to create agents that can decompose complex problems, plan multi-step solutions, and coordinate sophisticated workflows.\n",
        "\n",
        "**Advanced Capabilities You'll Master:**\n",
        "- 🧠 **Strategic Planning**: Breaking complex tasks into manageable subtasks\n",
        "- 🗺️ **Multi-Step Reasoning**: Sequential and parallel task execution patterns\n",
        "- 🎯 **Goal-Oriented Design**: Agents that work toward specific objectives\n",
        "- 🔄 **Adaptive Planning**: Dynamic strategy adjustment based on context\n",
        "\n",
        "## 🎯 Planning Architecture Concepts\n",
        "\n",
        "### Core Planning Components\n",
        "- **Task Decomposition**: Breaking complex problems into smaller, manageable pieces\n",
        "- **Execution Planning**: Determining optimal order and dependencies for subtasks\n",
        "- **Resource Management**: Efficiently allocating tools and capabilities\n",
        "- **Progress Monitoring**: Tracking completion and adapting to changes\n",
        "\n",
        "### Design Patterns for Planning\n",
        "- **Strategy Pattern**: Multiple planning approaches for different scenarios\n",
        "- **Chain of Responsibility**: Sequential processing with fallback options\n",
        "- **Command Pattern**: Encapsulated task execution with undo/redo capabilities\n",
        "- **Observer Pattern**: Progress tracking and event-driven updates\n",
        "\n",
        "## 🏗️ Technical Architecture\n",
        "\n",
        "### Planning System Components\n",
        "- **Microsoft Agent Framework**: Python implementation with advanced planning support\n",
        "- **GitHub Models Integration**: High-performance reasoning and decision-making\n",
        "- **Task Orchestration**: Coordinated execution of complex workflows  \n",
        "- **State Management**: Persistent tracking of planning progress and results\n",
        "\n",
        "### Planning Process Flow\n",
        "```python\n",
        "Complex Goal → Task Analysis → Subtask Decomposition → Execution Planning\n",
        "                ↓                    ↓                    ↓\n",
        "         Priority Assessment → Resource Allocation → Sequential Execution\n",
        "                ↓                    ↓                    ↓\n",
        "         Progress Monitoring → Adaptive Replanning → Goal Achievement\n",
        "```\n",
        "\n",
        "## 🧠 Planning Methodologies\n",
        "\n",
        "### 1. **Hierarchical Task Planning**\n",
        "- Top-down decomposition of complex objectives\n",
        "- Nested goal structures with dependencies\n",
        "- Recursive planning for sub-objectives\n",
        "- Efficient resource allocation across levels\n",
        "\n",
        "### 2. **Sequential Planning**\n",
        "- Step-by-step task execution with clear dependencies\n",
        "- Error handling and recovery at each stage\n",
        "- Progress checkpoints and validation\n",
        "- Rollback capabilities for failed steps\n",
        "\n",
        "### 3. **Parallel Planning**\n",
        "- Concurrent execution of independent tasks\n",
        "- Resource synchronization and conflict resolution\n",
        "- Performance optimization through parallelization\n",
        "- Coordinated completion and result aggregation\n",
        "\n",
        "## ⚙️ Prerequisites & Setup\n",
        "\n",
        "\n",
        "**Required Dependencies:**\n",
        "```bash\n",
        "\n",
        "pip uninstall agent-framework -y\n",
        "pip uninstall agent-framework-azure-ai -y\n",
        "\n",
        "pip install -r ../../Installation/requirements.txt --constraint ../../Installation/constraints.txt -U\n",
        "```\n",
        "\n",
        "**Environment Configuration (.env file):**\n",
        "```env\n",
        "GITHUB_TOKEN=your_github_personal_access_token\n",
        "GITHUB_ENDPOINT=https://models.inference.ai.azure.com\n",
        "GITHUB_MODEL_ID=gpt-4o-mini\n",
        "```\n",
        "\n",
        "## 🎨 Planning Design Patterns\n",
        "\n",
        "### Goal-Oriented Planning\n",
        "- **SMART Goals**: Specific, Measurable, Achievable, Relevant, Time-bound objectives\n",
        "- **Milestone Tracking**: Progress measurement and validation checkpoints\n",
        "- **Success Criteria**: Clear definitions of task completion\n",
        "- **Adaptive Strategies**: Dynamic planning adjustment based on feedback\n",
        "\n",
        "### Resource-Aware Planning\n",
        "- **Capability Assessment**: Understanding available tools and their limitations\n",
        "- **Load Balancing**: Optimal distribution of tasks across available resources\n",
        "- **Constraint Management**: Working within system and API limitations\n",
        "- **Performance Optimization**: Maximizing efficiency and minimizing latency\n",
        "\n",
        "### Error-Resilient Planning\n",
        "- **Failure Detection**: Early identification of planning or execution issues\n",
        "- **Recovery Strategies**: Automatic fallback and alternative approaches\n",
        "- **State Preservation**: Maintaining progress during error recovery\n",
        "- **Graceful Degradation**: Partial success when full completion isn't possible\n",
        "\n",
        "## 🚀 Advanced Planning Features\n",
        "\n",
        "- **Meta-Planning**: Agents that plan how to plan\n",
        "- **Collaborative Planning**: Multi-agent coordination for complex projects\n",
        "- **Learning from Experience**: Improving planning strategies over time\n",
        "- **Real-Time Adaptation**: Dynamic replanning based on changing conditions\n",
        "\n",
        "## 📊 Use Cases & Applications\n",
        "\n",
        "### Business Process Automation\n",
        "- Project management and task scheduling\n",
        "- Workflow optimization and resource allocation\n",
        "- Strategic planning and decision support\n",
        "- Process improvement and automation\n",
        "\n",
        "### Research & Analysis\n",
        "- Literature review and synthesis\n",
        "- Data analysis pipeline planning\n",
        "- Experimental design and execution\n",
        "- Report generation and formatting\n",
        "\n",
        "### Creative Projects\n",
        "- Content creation workflows\n",
        "- Multi-media project coordination\n",
        "- Campaign planning and execution\n",
        "- Event organization and management\n",
        "\n",
        "Ready to build intelligent planning agents that can tackle complex, multi-step challenges? Let's architect some sophisticated problem-solving capabilities! 🧠✨"
      ]
    },
    {
      "cell_type": "code",
      "execution_count": 1,
      "id": "7d9d6188",
      "metadata": {},
      "outputs": [],
      "source": [
        "# 🧹 Clean Up Previous Installations (Optional)\n",
        "# Uncomment these lines if you need to remove previous agent framework versions\n",
        "# This ensures a clean installation of the latest version\n",
        "# ! pip uninstall agent-framework -y\n",
        "# ! pip uninstall agent-framework-azure -y\n",
        "# ! pip uninstall agent-framework-foundry -y"
      ]
    },
    {
      "cell_type": "code",
      "execution_count": 2,
      "id": "609aefcf",
      "metadata": {},
      "outputs": [],
      "source": [
        "# 📦 Install Required Packages (Optional)\n",
        "# Uncomment this line to install all required dependencies\n",
        "# The -U flag ensures packages are upgraded to latest versions\n",
        "# ! pip install -r requirements.txt --constraint constraints.txt -U"
      ]
    },
    {
      "cell_type": "code",
      "execution_count": 3,
      "id": "f1be27ee",
      "metadata": {},
      "outputs": [],
      "source": [
        "# 🔌 Install Additional Dependencies (Optional)\n",
        "# Uncomment to install WebSocket support and OpenTelemetry for monitoring\n",
        "# websockets: For real-time communication\n",
        "# opentelemetry-semantic-conventions-ai: For AI observability and monitoring\n",
        "# ! pip install websockets opentelemetry-semantic-conventions-ai"
      ]
    },
    {
      "cell_type": "code",
      "execution_count": 4,
      "id": "b6280fda",
      "metadata": {},
      "outputs": [],
      "source": [
        "# 📦 Import Standard Libraries\n",
        "# os: For environment variable access\n",
        "# dotenv: For loading environment variables from .env file\n",
        "import os\n",
        "\n",
        "from dotenv import load_dotenv"
      ]
    },
    {
      "cell_type": "code",
      "execution_count": 5,
      "id": "3bd855d5",
      "metadata": {},
      "outputs": [],
      "source": [
        "# 📝 Import Data Modeling Libraries\n",
        "# Pydantic: For data validation and structured outputs\n",
        "# BaseModel: Base class for creating data models\n",
        "# Field: For adding metadata and validation to model fields\n",
        "# List: Type hint for list collections\n",
        "from pydantic import BaseModel, Field\n",
        "from typing import List"
      ]
    },
    {
      "cell_type": "code",
      "execution_count": 6,
      "id": "b63147e1",
      "metadata": {},
      "outputs": [],
      "source": [
        "# 🤖 Import Microsoft Agent Framework Components\n",
        "# ChatMessage: For creating structured chat messages\n",
        "# Role: Enum for message roles (user, assistant, system)\n",
        "# ChatOptions: Configuration options for chat interactions\n",
        "# OpenAIChatClient: Client for OpenAI-compatible APIs (GitHub Models)\n",
        "from agent_framework import ChatMessage, Role, ChatOptions\n",
        "from agent_framework.openai import OpenAIChatClient"
      ]
    },
    {
      "cell_type": "code",
      "execution_count": 7,
      "id": "d95ec338",
      "metadata": {},
      "outputs": [
        {
          "data": {
            "text/plain": [
              "True"
            ]
          },
          "execution_count": 7,
          "metadata": {},
          "output_type": "execute_result"
        }
      ],
      "source": [
        "# 🔧 Load Environment Variables\n",
        "# Load configuration from .env file\n",
        "# Required: GITHUB_ENDPOINT, GITHUB_TOKEN, GITHUB_MODEL_ID\n",
        "load_dotenv()"
      ]
    },
    {
      "cell_type": "code",
      "execution_count": 8,
      "id": "baeb5915",
      "metadata": {},
      "outputs": [],
      "source": [
        "# 🎯 Agent Configuration\n",
        "# Define the agent's name and role\n",
        "\n",
        "AGENT_NAME = \"TravelAgent\"\n",
        "\n",
        "# 📋 System Instructions for Planning Agent\n",
        "# This agent acts as a coordinator that decides which specialized agents to use\n",
        "AGENT_INSTRUCTIONS = \"\"\"You are a planner agent.\n",
        "    Your job is to decide which agents to run based on the user's request.\n",
        "    Below are the available agents specialized in different tasks:\n",
        "    - FlightBooking: For booking flights and providing flight information\n",
        "    - HotelBooking: For booking hotels and providing hotel information\n",
        "    - CarRental: For booking cars and providing car rental information\n",
        "    - ActivitiesBooking: For booking activities and providing activity information\n",
        "\"\"\"\n"
      ]
    },
    {
      "cell_type": "code",
      "execution_count": 9,
      "id": "556b40c1",
      "metadata": {},
      "outputs": [],
      "source": [
        "class SubTask(BaseModel):\n",
        "    assigned_agent: str = Field(\n",
        "        description=\"The specific agent assigned to handle this subtask\")\n",
        "    task_details: str = Field(\n",
        "        description=\"Detailed description of what needs to be done for this subtask\")\n",
        "\n",
        "\n",
        "class TravelPlan(BaseModel):\n",
        "    main_task: str = Field(\n",
        "        description=\"The overall travel request from the user\")\n",
        "    subtasks: List[SubTask] = Field(\n",
        "        description=\"List of subtasks broken down from the main task, each assigned to a specialized agent\")"
      ]
    },
    {
      "cell_type": "code",
      "execution_count": 10,
      "id": "3c16e0df",
      "metadata": {},
      "outputs": [],
      "source": [
        "options = ChatOptions(response_format=TravelPlan)"
      ]
    },
    {
      "cell_type": "code",
      "execution_count": 11,
      "id": "a312a074",
      "metadata": {},
      "outputs": [],
      "source": [
        "client = OpenAIChatClient(base_url=os.environ.get(\"GITHUB_ENDPOINT\"), api_key=os.environ.get(\"GITHUB_TOKEN\"), model_id=os.environ.get(\"GITHUB_MODEL_ID\"))"
      ]
    },
    {
      "cell_type": "code",
      "execution_count": 12,
      "id": "374e70ee",
      "metadata": {},
      "outputs": [],
      "source": [
        "agent =  client.create_agent(name= AGENT_NAME , instructions=AGENT_INSTRUCTIONS)"
      ]
    },
    {
      "cell_type": "code",
      "execution_count": 13,
      "id": "cde85093",
      "metadata": {},
      "outputs": [],
      "source": [
        "messages = [\n",
        "        ChatMessage(role=Role.USER, text=\"Create a travel plan for a family of 4, with 2 kids, from Singapore to Melbourne\")\n",
        "    ]"
      ]
    },
    {
      "cell_type": "code",
      "execution_count": 14,
      "id": "781c7c2a",
      "metadata": {},
      "outputs": [],
      "source": [
        "response = await agent.run(messages,response_format=TravelPlan)"
      ]
    },
    {
      "cell_type": "code",
      "execution_count": 15,
      "id": "25b44f81",
      "metadata": {},
      "outputs": [
        {
          "data": {
            "text/plain": [
              "\"To create a travel plan for a family of 4 from Singapore to Melbourne, I'll need to run the following agents:\\n\\n1. **FlightBooking**: To find and book flights for the family from Singapore to Melbourne.\\n2. **HotelBooking**: To find and book suitable accommodations in Melbourne for the family.\\n3. **CarRental**: To arrange for a car rental in Melbourne for convenient transportation.\\n4. **ActivitiesBooking**: To suggest and book family-friendly activities in Melbourne.\\n\\nI'll proceed with running these agents.\""
            ]
          },
          "execution_count": 15,
          "metadata": {},
          "output_type": "execute_result"
        }
      ],
      "source": [
        "response.messages[0].text"
      ]
    }
  ],
  "metadata": {
    "kernelspec": {
      "display_name": "agentenv",
      "language": "python",
      "name": "python3"
    },
    "language_info": {
      "codemirror_mode": {
        "name": "ipython",
        "version": 3
      },
      "file_extension": ".py",
      "mimetype": "text/x-python",
      "name": "python",
      "nbconvert_exporter": "python",
      "pygments_lexer": "ipython3",
      "version": "3.12.10"
    }
  },
  "nbformat": 4,
  "nbformat_minor": 5
}
