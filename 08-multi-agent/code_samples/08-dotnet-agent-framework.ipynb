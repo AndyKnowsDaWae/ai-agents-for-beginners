{
  "cells": [
    {
      "cell_type": "markdown",
      "id": "f60b1e02",
      "metadata": {},
      "source": [
        "# 🤝 Enterprise Multi-Agent Workflow Systems (.NET)\n",
        "\n",
        "## 📋 Learning Objectives\n",
        "\n",
        "This notebook demonstrates how to build sophisticated enterprise-grade multi-agent systems using the Microsoft Agent Framework in .NET with GitHub Models. You'll learn to orchestrate multiple specialized agents working together through structured workflows, leveraging .NET's enterprise features for production-ready solutions.\n",
        "\n",
        "**Enterprise Multi-Agent Capabilities You'll Build:**\n",
        "- 👥 **Agent Collaboration**: Type-safe agent coordination with compile-time validation\n",
        "- 🔄 **Workflow Orchestration**: Declarative workflow definition with .NET's async patterns\n",
        "- 🎭 **Role Specialization**: Strongly-typed agent personalities and expertise domains\n",
        "- 🏢 **Enterprise Integration**: Production-ready patterns with monitoring and error handling\n",
        "\n",
        "\n",
        "## ⚙️ Prerequisites & Setup\n",
        "\n",
        "**Development Environment:**\n",
        "- .NET 9.0 SDK or higher\n",
        "- Visual Studio 2022 or VS Code with C# extension\n",
        "- Azure subscription (for persistent agents)\n",
        "\n",
        "**Required NuGet Packages:**\n",
        "```xml\n",
        "<PackageReference Include=\"Microsoft.Extensions.AI.Abstractions\" Version=\"9.9.0\" />\n",
        "<PackageReference Include=\"Azure.AI.Agents.Persistent\" Version=\"1.2.0-beta.4\" />\n",
        "<PackageReference Include=\"Azure.Identity\" Version=\"1.15.0\" />\n",
        "<PackageReference Include=\"System.Linq.Async\" Version=\"6.0.3\" />\n",
        "<PackageReference Include=\"Microsoft.Extensions.AI\" Version=\"9.8.0\" />\n",
        "<PackageReference Include=\"DotNetEnv\" Version=\"3.1.1\" />\n",
        "<PackageReference Include=\"Microsoft.Extensions.AI.OpenAI\" Version=\"9.9.0-preview.1.25458.4\" />\n",
        "```\n",
        "\n"
      ]
    },
    {
      "cell_type": "code",
      "execution_count": 1,
      "id": "db587f0b",
      "metadata": {
        "language_info": {
          "name": "polyglot-notebook"
        },
        "polyglot_notebook": {
          "kernelName": "csharp"
        }
      },
      "outputs": [
        {
          "data": {
            "text/html": [
              "<div><div></div><div></div><div><strong>Installed Packages</strong><ul><li><span>Microsoft.Extensions.AI.Abstractions, 9.9.0</span></li></ul></div></div>"
            ]
          },
          "metadata": {},
          "output_type": "display_data"
        }
      ],
      "source": [
        "// 📦 NuGet Package Reference: Microsoft Extensions AI Abstractions\n",
        "// Core AI abstraction layer providing standardized interfaces for multi-agent systems\n",
        "// Essential for building type-safe, enterprise-grade agent orchestration\n",
        "#r \"nuget: Microsoft.Extensions.AI.Abstractions, 9.9.0\""
      ]
    },
    {
      "cell_type": "code",
      "execution_count": 2,
      "id": "ac90fde7",
      "metadata": {
        "language_info": {
          "name": "polyglot-notebook"
        },
        "polyglot_notebook": {
          "kernelName": "csharp"
        }
      },
      "outputs": [
        {
          "data": {
            "text/html": [
              "<div><div></div><div></div><div><strong>Installed Packages</strong><ul><li><span>Azure.AI.Agents.Persistent, 1.2.0-beta.4</span></li><li><span>Azure.Identity, 1.15.0</span></li><li><span>DotNetEnv, 3.1.1</span></li><li><span>Microsoft.Extensions.AI, 9.8.0</span></li><li><span>OpenTelemetry.Api, 1.0.1</span></li><li><span>System.Linq.Async, 6.0.3</span></li></ul></div></div>"
            ]
          },
          "metadata": {},
          "output_type": "display_data"
        }
      ],
      "source": [
        "// 📦 Enterprise Multi-Agent Dependencies\n",
        "// Azure.AI.Agents.Persistent: Enterprise agent management with state persistence and Azure integration\n",
        "// Azure.Identity: Secure authentication for Azure services in multi-agent workflows\n",
        "// System.Linq.Async: High-performance asynchronous LINQ operations for agent data processing\n",
        "// Microsoft.Extensions.AI: Core AI service abstractions for agent coordination\n",
        "// DotNetEnv: Secure environment variable management for multi-agent configuration\n",
        "#r \"nuget: Azure.AI.Agents.Persistent, 1.2.0-beta.4\"\n",
        "#r \"nuget: Azure.Identity, 1.15.0\"\n",
        "#r \"nuget: System.Linq.Async, 6.0.3\"\n",
        "#r \"nuget: Microsoft.Extensions.AI, 9.8.0\"\n",
        "#r \"nuget: DotNetEnv, 3.1.1\"\n",
        "#r \"nuget: OpenTelemetry.Api, 1.0.0\""
      ]
    },
    {
      "cell_type": "code",
      "execution_count": 3,
      "id": "9b5fb7a6",
      "metadata": {
        "language_info": {
          "name": "polyglot-notebook"
        },
        "polyglot_notebook": {
          "kernelName": "csharp"
        }
      },
      "outputs": [],
      "source": [
        "// 🔗 Local Assembly Reference: Microsoft Agents AI OpenAI\n",
        "// OpenAI-compatible integration for GitHub Models in multi-agent systems\n",
        "// Enables high-performance language model access for agent communication and reasoning\n",
        "#r \"C:\\Users\\kinfeylo\\Documents\\Agent\\agent-framework\\dotnet\\src\\Microsoft.Agents.AI.OpenAI\\bin\\Debug\\net9.0\\Microsoft.Agents.AI.OpenAI.dll\"\n"
      ]
    },
    {
      "cell_type": "code",
      "execution_count": 4,
      "id": "48373b13",
      "metadata": {
        "language_info": {
          "name": "polyglot-notebook"
        },
        "polyglot_notebook": {
          "kernelName": "csharp"
        }
      },
      "outputs": [],
      "source": [
        "// 🔄 Local Assembly Reference: Microsoft Agents Workflows\n",
        "// Advanced workflow orchestration engine for complex multi-agent coordination\n",
        "// Provides declarative workflow definition and type-safe agent interaction patterns\n",
        "#r \"C:\\Users\\kinfeylo\\Documents\\Agent\\agent-framework\\dotnet\\src\\Microsoft.Agents.AI.Workflows\\bin\\Debug\\net9.0\\Microsoft.Agents.AI.Workflows.dll\""
      ]
    },
    {
      "cell_type": "code",
      "execution_count": 5,
      "id": "1bbe3fda",
      "metadata": {
        "language_info": {
          "name": "polyglot-notebook"
        },
        "polyglot_notebook": {
          "kernelName": "csharp"
        }
      },
      "outputs": [
        {
          "data": {
            "text/html": [
              "<div><div></div><div></div><div><strong>Installed Packages</strong><ul><li><span>Microsoft.Extensions.AI.OpenAI, 9.9.0-preview.1.25458.4</span></li></ul></div></div>"
            ]
          },
          "metadata": {},
          "output_type": "display_data"
        }
      ],
      "source": [
        "// 🔌 NuGet Package Reference: OpenAI Integration (Preview)\n",
        "// Preview version providing GitHub Models compatibility for multi-agent workflows\n",
        "// Enables seamless integration with GitHub's model inference service for agent communication\n",
        "#r \"nuget: Microsoft.Extensions.AI.OpenAI, 9.9.0-preview.1.25458.4\""
      ]
    },
    {
      "cell_type": "code",
      "execution_count": 6,
      "id": "604b143b",
      "metadata": {
        "language_info": {
          "name": "polyglot-notebook"
        },
        "polyglot_notebook": {
          "kernelName": "csharp"
        }
      },
      "outputs": [
        {
          "data": {
            "text/html": [
              "<div><div></div><div></div><div><strong>Installed Packages</strong><ul><li><span>DotNetEnv, 3.1.1</span></li></ul></div></div>"
            ]
          },
          "metadata": {},
          "output_type": "display_data"
        }
      ],
      "source": [
        "#r \"nuget: DotNetEnv, 3.1.1\""
      ]
    },
    {
      "cell_type": "code",
      "execution_count": 7,
      "id": "2dd2c97c",
      "metadata": {
        "language_info": {
          "name": "polyglot-notebook"
        },
        "polyglot_notebook": {
          "kernelName": "csharp"
        }
      },
      "outputs": [],
      "source": [
        "using System;\n",
        "using System.ClientModel;\n",
        "using System.Text.Json;\n",
        "using System.Text.Json.Serialization;\n",
        "using Microsoft.Extensions.AI;\n",
        "using Microsoft.Agents.AI;\n",
        "using Microsoft.Agents.AI.Workflows;\n",
        "using OpenAI;"
      ]
    },
    {
      "cell_type": "code",
      "execution_count": 8,
      "id": "f50280ae",
      "metadata": {
        "language_info": {
          "name": "polyglot-notebook"
        },
        "polyglot_notebook": {
          "kernelName": "csharp"
        }
      },
      "outputs": [],
      "source": [
        " using DotNetEnv;"
      ]
    },
    {
      "cell_type": "code",
      "execution_count": 9,
      "id": "1904a269",
      "metadata": {
        "language_info": {
          "name": "polyglot-notebook"
        },
        "polyglot_notebook": {
          "kernelName": "csharp"
        }
      },
      "outputs": [],
      "source": [
        "Env.Load(\"../../../.env\");"
      ]
    },
    {
      "cell_type": "code",
      "execution_count": 10,
      "id": "0f0d36cd",
      "metadata": {
        "language_info": {
          "name": "polyglot-notebook"
        },
        "polyglot_notebook": {
          "kernelName": "csharp"
        }
      },
      "outputs": [],
      "source": [
        "var github_endpoint = Environment.GetEnvironmentVariable(\"GITHUB_ENDPOINT\") ?? throw new InvalidOperationException(\"GITHUB_ENDPOINT is not set.\");\n",
        "var github_model_id = Environment.GetEnvironmentVariable(\"GITHUB_MODEL_ID\") ?? \"gpt-4o-mini\";\n",
        "var github_token = Environment.GetEnvironmentVariable(\"GITHUB_TOKEN\") ?? throw new InvalidOperationException(\"GITHUB_TOKEN is not set.\");"
      ]
    },
    {
      "cell_type": "code",
      "execution_count": 11,
      "id": "76b692ff",
      "metadata": {
        "language_info": {
          "name": "polyglot-notebook"
        },
        "polyglot_notebook": {
          "kernelName": "csharp"
        }
      },
      "outputs": [],
      "source": [
        "var openAIOptions = new OpenAIClientOptions()\n",
        "{\n",
        "    Endpoint= new Uri(github_endpoint)\n",
        "};"
      ]
    },
    {
      "cell_type": "code",
      "execution_count": 12,
      "id": "2c173255",
      "metadata": {
        "language_info": {
          "name": "polyglot-notebook"
        },
        "polyglot_notebook": {
          "kernelName": "csharp"
        }
      },
      "outputs": [],
      "source": [
        "var openAIClient = new OpenAIClient(new ApiKeyCredential(github_token), openAIOptions);"
      ]
    },
    {
      "cell_type": "code",
      "execution_count": 13,
      "id": "359fb220",
      "metadata": {
        "language_info": {
          "name": "polyglot-notebook"
        },
        "polyglot_notebook": {
          "kernelName": "csharp"
        }
      },
      "outputs": [],
      "source": [
        "const string REVIEWER_NAME = \"Concierge\";\n",
        "const string REVIEWER_INSTRUCTIONS = @\"\"\"\n",
        "    You are an are hotel concierge who has opinions about providing the most local and authentic experiences for travelers.\n",
        "    The goal is to determine if the front desk travel agent has recommended the best non-touristy experience for a traveler.\n",
        "    If so, state that it is approved.\n",
        "    If not, provide insight on how to refine the recommendation without using a specific example. \n",
        "    \"\"\";"
      ]
    },
    {
      "cell_type": "code",
      "execution_count": 14,
      "id": "538b683d",
      "metadata": {
        "language_info": {
          "name": "polyglot-notebook"
        },
        "polyglot_notebook": {
          "kernelName": "csharp"
        }
      },
      "outputs": [],
      "source": [
        "const string FRONTDESK_NAME = \"FrontDesk\";\n",
        "const string FRONTDESK_INSTRUCTIONS = @\"\"\"\n",
        "    You are a Front Desk Travel Agent with ten years of experience and are known for brevity as you deal with many customers.\n",
        "    The goal is to provide the best activities and locations for a traveler to visit.\n",
        "    Only provide a single recommendation per response.\n",
        "    You're laser focused on the goal at hand.\n",
        "    Don't waste time with chit chat.\n",
        "    Consider suggestions when refining an idea.\n",
        "    \"\"\";"
      ]
    },
    {
      "cell_type": "code",
      "execution_count": 15,
      "id": "4b6ae825",
      "metadata": {
        "language_info": {
          "name": "polyglot-notebook"
        },
        "polyglot_notebook": {
          "kernelName": "csharp"
        }
      },
      "outputs": [],
      "source": [
        "\n",
        "ChatClientAgentOptions frontdeskAgentOptions = new(name: FRONTDESK_NAME, instructions: FRONTDESK_INSTRUCTIONS);\n",
        "ChatClientAgentOptions reviewerAgentOptions = new(name: REVIEWER_NAME, instructions: REVIEWER_INSTRUCTIONS);"
      ]
    },
    {
      "cell_type": "code",
      "execution_count": 16,
      "id": "5011e011",
      "metadata": {
        "language_info": {
          "name": "polyglot-notebook"
        },
        "polyglot_notebook": {
          "kernelName": "csharp"
        }
      },
      "outputs": [],
      "source": [
        "AIAgent reviewerAgent = new OpenAIClient(new ApiKeyCredential(github_token), openAIOptions).GetChatClient(github_model_id).CreateAIAgent(\n",
        "    reviewerAgentOptions);\n",
        "AIAgent frontdeskAgent = new OpenAIClient(new ApiKeyCredential(github_token), openAIOptions).GetChatClient(github_model_id).CreateAIAgent(\n",
        "    frontdeskAgentOptions);"
      ]
    },
    {
      "cell_type": "code",
      "execution_count": 17,
      "id": "27a33ff3",
      "metadata": {
        "language_info": {
          "name": "polyglot-notebook"
        },
        "polyglot_notebook": {
          "kernelName": "csharp"
        }
      },
      "outputs": [],
      "source": [
        "var workflow = new WorkflowBuilder(frontdeskAgent)\n",
        "            .AddEdge(frontdeskAgent, reviewerAgent)\n",
        "            .Build();"
      ]
    },
    {
      "cell_type": "code",
      "execution_count": 18,
      "id": "8cb30b4a",
      "metadata": {
        "language_info": {
          "name": "polyglot-notebook"
        },
        "polyglot_notebook": {
          "kernelName": "csharp"
        }
      },
      "outputs": [],
      "source": [
        "StreamingRun run = await InProcessExecution.StreamAsync(workflow, new ChatMessage(ChatRole.User, \"I would like to go to Paris.\"));"
      ]
    },
    {
      "cell_type": "code",
      "execution_count": 19,
      "id": "81e8be53",
      "metadata": {
        "language_info": {
          "name": "polyglot-notebook"
        },
        "polyglot_notebook": {
          "kernelName": "csharp"
        }
      },
      "outputs": [],
      "source": [
        "await run.TrySendMessageAsync(new TurnToken(emitEvents: true));"
      ]
    },
    {
      "cell_type": "code",
      "execution_count": 20,
      "id": "5c74f08f",
      "metadata": {
        "language_info": {
          "name": "polyglot-notebook"
        },
        "polyglot_notebook": {
          "kernelName": "csharp"
        }
      },
      "outputs": [],
      "source": [
        "string strResult = \"\";"
      ]
    },
    {
      "cell_type": "code",
      "execution_count": 21,
      "id": "f8ebfc00",
      "metadata": {
        "language_info": {
          "name": "polyglot-notebook"
        },
        "polyglot_notebook": {
          "kernelName": "csharp"
        }
      },
      "outputs": [
        {
          "name": "stdout",
          "output_type": "stream",
          "text": [
            "6c315925a6644422a6223c37e92bbcab: \n",
            "6c315925a6644422a6223c37e92bbcab: Visit\n",
            "6c315925a6644422a6223c37e92bbcab:  the\n",
            "6c315925a6644422a6223c37e92bbcab:  Louvre\n",
            "6c315925a6644422a6223c37e92bbcab:  Museum\n",
            "6c315925a6644422a6223c37e92bbcab:  for\n",
            "6c315925a6644422a6223c37e92bbcab:  its\n",
            "6c315925a6644422a6223c37e92bbcab:  impressive\n",
            "6c315925a6644422a6223c37e92bbcab:  art\n",
            "6c315925a6644422a6223c37e92bbcab:  collection\n",
            "6c315925a6644422a6223c37e92bbcab: .\n",
            "6c315925a6644422a6223c37e92bbcab: \n",
            "6c315925a6644422a6223c37e92bbcab: \n",
            "0cc3178682e34ee6af182fa6983f57e3: \n",
            "0cc3178682e34ee6af182fa6983f57e3: This\n",
            "0cc3178682e34ee6af182fa6983f57e3:  recommendation\n",
            "0cc3178682e34ee6af182fa6983f57e3:  may\n",
            "0cc3178682e34ee6af182fa6983f57e3:  not\n",
            "0cc3178682e34ee6af182fa6983f57e3:  be\n",
            "0cc3178682e34ee6af182fa6983f57e3:  the\n",
            "0cc3178682e34ee6af182fa6983f57e3:  best\n",
            "0cc3178682e34ee6af182fa6983f57e3:  non\n",
            "0cc3178682e34ee6af182fa6983f57e3: -tour\n",
            "0cc3178682e34ee6af182fa6983f57e3: isty\n",
            "0cc3178682e34ee6af182fa6983f57e3:  experience\n",
            "0cc3178682e34ee6af182fa6983f57e3: ,\n",
            "0cc3178682e34ee6af182fa6983f57e3:  as\n",
            "0cc3178682e34ee6af182fa6983f57e3:  the\n",
            "0cc3178682e34ee6af182fa6983f57e3:  Louvre\n",
            "0cc3178682e34ee6af182fa6983f57e3:  is\n",
            "0cc3178682e34ee6af182fa6983f57e3:  one\n",
            "0cc3178682e34ee6af182fa6983f57e3:  of\n",
            "0cc3178682e34ee6af182fa6983f57e3:  the\n",
            "0cc3178682e34ee6af182fa6983f57e3:  most\n",
            "0cc3178682e34ee6af182fa6983f57e3:  visited\n",
            "0cc3178682e34ee6af182fa6983f57e3:  attractions\n",
            "0cc3178682e34ee6af182fa6983f57e3:  in\n",
            "0cc3178682e34ee6af182fa6983f57e3:  the\n",
            "0cc3178682e34ee6af182fa6983f57e3:  world\n",
            "0cc3178682e34ee6af182fa6983f57e3: .\n",
            "0cc3178682e34ee6af182fa6983f57e3:  To\n",
            "0cc3178682e34ee6af182fa6983f57e3:  refine\n",
            "0cc3178682e34ee6af182fa6983f57e3:  the\n",
            "0cc3178682e34ee6af182fa6983f57e3:  recommendation\n",
            "0cc3178682e34ee6af182fa6983f57e3: ,\n",
            "0cc3178682e34ee6af182fa6983f57e3:  focus\n",
            "0cc3178682e34ee6af182fa6983f57e3:  on\n",
            "0cc3178682e34ee6af182fa6983f57e3:  experiences\n",
            "0cc3178682e34ee6af182fa6983f57e3:  that\n",
            "0cc3178682e34ee6af182fa6983f57e3:  highlight\n",
            "0cc3178682e34ee6af182fa6983f57e3:  local\n",
            "0cc3178682e34ee6af182fa6983f57e3:  culture\n",
            "0cc3178682e34ee6af182fa6983f57e3: ,\n",
            "0cc3178682e34ee6af182fa6983f57e3:  art\n",
            "0cc3178682e34ee6af182fa6983f57e3: ,\n",
            "0cc3178682e34ee6af182fa6983f57e3:  and\n",
            "0cc3178682e34ee6af182fa6983f57e3:  history\n",
            "0cc3178682e34ee6af182fa6983f57e3:  in\n",
            "0cc3178682e34ee6af182fa6983f57e3:  a\n",
            "0cc3178682e34ee6af182fa6983f57e3:  more\n",
            "0cc3178682e34ee6af182fa6983f57e3:  intimate\n",
            "0cc3178682e34ee6af182fa6983f57e3:  setting\n",
            "0cc3178682e34ee6af182fa6983f57e3: ,\n",
            "0cc3178682e34ee6af182fa6983f57e3:  perhaps\n",
            "0cc3178682e34ee6af182fa6983f57e3:  by\n",
            "0cc3178682e34ee6af182fa6983f57e3:  exploring\n",
            "0cc3178682e34ee6af182fa6983f57e3:  lesser\n",
            "0cc3178682e34ee6af182fa6983f57e3: -known\n",
            "0cc3178682e34ee6af182fa6983f57e3:  galleries\n",
            "0cc3178682e34ee6af182fa6983f57e3:  or\n",
            "0cc3178682e34ee6af182fa6983f57e3:  community\n",
            "0cc3178682e34ee6af182fa6983f57e3:  art\n",
            "0cc3178682e34ee6af182fa6983f57e3:  projects\n",
            "0cc3178682e34ee6af182fa6983f57e3:  that\n",
            "0cc3178682e34ee6af182fa6983f57e3:  allow\n",
            "0cc3178682e34ee6af182fa6983f57e3:  travelers\n",
            "0cc3178682e34ee6af182fa6983f57e3:  to\n",
            "0cc3178682e34ee6af182fa6983f57e3:  engage\n",
            "0cc3178682e34ee6af182fa6983f57e3:  with\n",
            "0cc3178682e34ee6af182fa6983f57e3:  local\n",
            "0cc3178682e34ee6af182fa6983f57e3:  artists\n",
            "0cc3178682e34ee6af182fa6983f57e3:  and\n",
            "0cc3178682e34ee6af182fa6983f57e3:  traditions\n",
            "0cc3178682e34ee6af182fa6983f57e3: .\n",
            "0cc3178682e34ee6af182fa6983f57e3: \n",
            "0cc3178682e34ee6af182fa6983f57e3: \n"
          ]
        }
      ],
      "source": [
        "await foreach (WorkflowEvent evt in run.WatchStreamAsync().ConfigureAwait(false))\n",
        "{\n",
        "            if (evt is AgentRunUpdateEvent executorComplete)\n",
        "            {\n",
        "                strResult += executorComplete.Data;\n",
        "                Console.WriteLine($\"{executorComplete.ExecutorId}: {executorComplete.Data}\");\n",
        "            }\n",
        "}"
      ]
    },
    {
      "cell_type": "code",
      "execution_count": 22,
      "id": "eb21badd",
      "metadata": {
        "language_info": {
          "name": "polyglot-notebook"
        },
        "polyglot_notebook": {
          "kernelName": "csharp"
        }
      },
      "outputs": [
        {
          "data": {
            "text/plain": [
              "Visit the Louvre Museum for its impressive art collection.This recommendation may not be the best non-touristy experience, as the Louvre is one of the most visited attractions in the world. To refine the recommendation, focus on experiences that highlight local culture, art, and history in a more intimate setting, perhaps by exploring lesser-known galleries or community art projects that allow travelers to engage with local artists and traditions."
            ]
          },
          "metadata": {},
          "output_type": "display_data"
        }
      ],
      "source": [
        "strResult"
      ]
    }
  ],
  "metadata": {
    "kernelspec": {
      "display_name": ".NET (C#)",
      "language": "C#",
      "name": ".net-csharp"
    },
    "language_info": {
      "name": "polyglot-notebook"
    },
    "polyglot_notebook": {
      "kernelInfo": {
        "defaultKernelName": "csharp",
        "items": [
          {
            "aliases": [],
            "name": "csharp"
          }
        ]
      }
    }
  },
  "nbformat": 4,
  "nbformat_minor": 5
}
