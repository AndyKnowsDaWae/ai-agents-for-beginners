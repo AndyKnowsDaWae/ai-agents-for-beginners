{
 "cells": [
  {
   "cell_type": "markdown",
   "id": "3a045dd3",
   "metadata": {},
   "source": [
    "# 🔄 GitHub মডেল ব্যবহার করে বেসিক এজেন্ট ওয়ার্কফ্লো (Python)\n",
    "\n",
    "## 📋 ওয়ার্কফ্লো অর্কেস্ট্রেশন টিউটোরিয়াল\n",
    "\n",
    "এই নোটবুকটি Microsoft Agent Framework-এর শক্তিশালী **Workflow Builder** ক্ষমতাগুলি পরিচয় করিয়ে দেয়। শিখুন কীভাবে জটিল ব্যবসায়িক প্রক্রিয়া পরিচালনা এবং একাধিক AI অপারেশন সমন্বয় করতে সক্ষম উন্নত, বহু-ধাপের এজেন্ট ওয়ার্কফ্লো তৈরি করবেন।\n",
    "\n",
    "## 🎯 শেখার লক্ষ্যসমূহ\n",
    "\n",
    "### 🏗️ **ওয়ার্কফ্লো আর্কিটেকচার**\n",
    "- **Workflow Builder**: জটিল বহু-ধাপের প্রক্রিয়া ডিজাইন এবং সমন্বয় করুন\n",
    "- **Event-Driven Execution**: ওয়ার্কফ্লো ইভেন্ট এবং স্টেট ট্রানজিশন পরিচালনা করুন\n",
    "- **Visual Workflow Design**: ওয়ার্কফ্লো কাঠামো তৈরি এবং ভিজ্যুয়ালাইজ করুন\n",
    "- **GitHub Models Integration**: ওয়ার্কফ্লো প্রসঙ্গে AI মডেল ব্যবহার করুন\n",
    "\n",
    "### 🔄 **প্রক্রিয়া অর্কেস্ট্রেশন**\n",
    "- **Sequential Operations**: একাধিক এজেন্ট টাস্ককে যৌক্তিক ক্রমে সংযুক্ত করুন\n",
    "- **Conditional Logic**: সিদ্ধান্ত পয়েন্ট এবং শাখা ওয়ার্কফ্লো বাস্তবায়ন করুন\n",
    "- **Error Handling**: শক্তিশালী ত্রুটি পুনরুদ্ধার এবং ওয়ার্কফ্লো স্থিতিশীলতা\n",
    "- **State Management**: ওয়ার্কফ্লো কার্যকরী অবস্থার ট্র্যাক এবং পরিচালনা করুন\n",
    "\n",
    "### 📊 **এন্টারপ্রাইজ ওয়ার্কফ্লো প্যাটার্ন**\n",
    "- **Business Process Automation**: জটিল সাংগঠনিক ওয়ার্কফ্লো স্বয়ংক্রিয় করুন\n",
    "- **Multi-Agent Coordination**: একাধিক বিশেষায়িত এজেন্ট সমন্বয় করুন\n",
    "- **Scalable Execution**: এন্টারপ্রাইজ-স্কেল অপারেশনের জন্য ওয়ার্কফ্লো ডিজাইন করুন\n",
    "- **Monitoring & Observability**: ওয়ার্কফ্লো কর্মক্ষমতা এবং ফলাফল ট্র্যাক করুন\n",
    "\n",
    "## ⚙️ প্রয়োজনীয়তা এবং সেটআপ\n",
    "\n",
    "### 📦 **প্রয়োজনীয় ডিপেন্ডেন্সি**\n",
    "\n",
    "ওয়ার্কফ্লো ক্ষমতা সহ Agent Framework ইনস্টল করুন:\n",
    "\n",
    "```bash\n",
    "pip install agent-framework-core -U\n",
    "```\n",
    "\n",
    "### 🔑 **GitHub মডেল কনফিগারেশন**\n",
    "\n",
    "**পরিবেশ সেটআপ (.env ফাইল):**\n",
    "```env\n",
    "GITHUB_TOKEN=your_github_personal_access_token\n",
    "GITHUB_ENDPOINT=https://models.inference.ai.azure.com\n",
    "GITHUB_MODEL_ID=gpt-4o-mini\n",
    "```\n",
    "\n",
    "### 🏢 **এন্টারপ্রাইজ ব্যবহার ক্ষেত্র**\n",
    "\n",
    "**ব্যবসায়িক প্রক্রিয়ার উদাহরণ:**\n",
    "- **Customer Onboarding**: বহু-ধাপের যাচাইকরণ এবং সেটআপ ওয়ার্কফ্লো\n",
    "- **Content Pipeline**: স্বয়ংক্রিয় কন্টেন্ট তৈরি, পর্যালোচনা এবং প্রকাশনা\n",
    "- **Data Processing**: AI-চালিত রূপান্তর সহ ETL ওয়ার্কফ্লো\n",
    "- **Quality Assurance**: স্বয়ংক্রিয় টেস্টিং এবং যাচাইকরণ প্রক্রিয়া\n",
    "\n",
    "**ওয়ার্কফ্লো সুবিধাসমূহ:**\n",
    "- 🎯 **বিশ্বাসযোগ্যতা**: ত্রুটি পুনরুদ্ধার সহ নির্ধারিত কার্যকরীতা\n",
    "- 📈 **স্কেলযোগ্যতা**: উচ্চ-পরিমাণ প্রক্রিয়া অটোমেশন পরিচালনা করুন\n",
    "- 🔍 **পর্যবেক্ষণযোগ্যতা**: সম্পূর্ণ অডিট ট্রেইল এবং পর্যবেক্ষণ\n",
    "- 🔧 **রক্ষণাবেক্ষণযোগ্যতা**: ভিজ্যুয়াল ডিজাইন এবং মডুলার উপাদান\n",
    "\n",
    "## 🎨 ওয়ার্কফ্লো ডিজাইন প্যাটার্ন\n",
    "\n",
    "### বেসিক ওয়ার্কফ্লো কাঠামো\n",
    "```mermaid\n",
    "graph TD\n",
    "    A[Start] --> B[Agent Task 1]\n",
    "    B --> C{Decision Point}\n",
    "    C -->|Success| D[Agent Task 2]\n",
    "    C -->|Failure| E[Error Handler]\n",
    "    D --> F[End]\n",
    "    E --> F\n",
    "```\n",
    "\n",
    "**মূল উপাদান:**\n",
    "- **WorkflowBuilder**: প্রধান অর্কেস্ট্রেশন ইঞ্জিন\n",
    "- **WorkflowEvent**: ইভেন্ট পরিচালনা এবং যোগাযোগ\n",
    "- **WorkflowViz**: ভিজ্যুয়াল ওয়ার্কফ্লো উপস্থাপনা এবং ডিবাগিং\n",
    "\n",
    "আপনার প্রথম বুদ্ধিমান ওয়ার্কফ্লো তৈরি করুন! 🚀\n"
   ]
  },
  {
   "cell_type": "code",
   "execution_count": 1,
   "id": "c0863be7",
   "metadata": {},
   "outputs": [
    {
     "name": "stdout",
     "output_type": "stream",
     "text": [
      "Requirement already satisfied: agent-framework-core in c:\\users\\kinfeylo\\appdata\\local\\miniforge3\\envs\\agentenv\\lib\\site-packages (1.0.0b251001)\n",
      "Requirement already satisfied: openai>=1.99.0 in c:\\users\\kinfeylo\\appdata\\local\\miniforge3\\envs\\agentenv\\lib\\site-packages (from agent-framework-core) (1.106.1)\n",
      "Requirement already satisfied: pydantic<3,>=2 in c:\\users\\kinfeylo\\appdata\\local\\miniforge3\\envs\\agentenv\\lib\\site-packages (from agent-framework-core) (2.11.9)\n",
      "Requirement already satisfied: pydantic-settings<3,>=2 in c:\\users\\kinfeylo\\appdata\\local\\miniforge3\\envs\\agentenv\\lib\\site-packages (from agent-framework-core) (2.10.1)\n",
      "Requirement already satisfied: typing-extensions in c:\\users\\kinfeylo\\appdata\\local\\miniforge3\\envs\\agentenv\\lib\\site-packages (from agent-framework-core) (4.15.0)\n",
      "Requirement already satisfied: opentelemetry-api>=1.24 in c:\\users\\kinfeylo\\appdata\\local\\miniforge3\\envs\\agentenv\\lib\\site-packages (from agent-framework-core) (1.36.0)\n",
      "Requirement already satisfied: opentelemetry-sdk>=1.24 in c:\\users\\kinfeylo\\appdata\\local\\miniforge3\\envs\\agentenv\\lib\\site-packages (from agent-framework-core) (1.36.0)\n",
      "Requirement already satisfied: mcp>=1.13 in c:\\users\\kinfeylo\\appdata\\local\\miniforge3\\envs\\agentenv\\lib\\site-packages (from mcp[ws]>=1.13->agent-framework-core) (1.13.1)\n",
      "Requirement already satisfied: azure-monitor-opentelemetry>=1.7.0 in c:\\users\\kinfeylo\\appdata\\local\\miniforge3\\envs\\agentenv\\lib\\site-packages (from agent-framework-core) (1.8.0)\n",
      "Requirement already satisfied: azure-monitor-opentelemetry-exporter>=1.0.0b41 in c:\\users\\kinfeylo\\appdata\\local\\miniforge3\\envs\\agentenv\\lib\\site-packages (from agent-framework-core) (1.0.0b41)\n",
      "Requirement already satisfied: opentelemetry-exporter-otlp-proto-grpc>=1.36.0 in c:\\users\\kinfeylo\\appdata\\local\\miniforge3\\envs\\agentenv\\lib\\site-packages (from agent-framework-core) (1.36.0)\n",
      "Requirement already satisfied: opentelemetry-semantic-conventions-ai>=0.4.13 in c:\\users\\kinfeylo\\appdata\\local\\miniforge3\\envs\\agentenv\\lib\\site-packages (from agent-framework-core) (0.4.13)\n",
      "Requirement already satisfied: aiofiles>=24.1.0 in c:\\users\\kinfeylo\\appdata\\local\\miniforge3\\envs\\agentenv\\lib\\site-packages (from agent-framework-core) (24.1.0)\n",
      "Requirement already satisfied: azure-identity<2,>=1 in c:\\users\\kinfeylo\\appdata\\local\\miniforge3\\envs\\agentenv\\lib\\site-packages (from agent-framework-core) (1.24.0)\n",
      "Requirement already satisfied: azure-core>=1.31.0 in c:\\users\\kinfeylo\\appdata\\local\\miniforge3\\envs\\agentenv\\lib\\site-packages (from azure-identity<2,>=1->agent-framework-core) (1.35.0)\n",
      "Requirement already satisfied: cryptography>=2.5 in c:\\users\\kinfeylo\\appdata\\local\\miniforge3\\envs\\agentenv\\lib\\site-packages (from azure-identity<2,>=1->agent-framework-core) (45.0.7)\n",
      "Requirement already satisfied: msal>=1.30.0 in c:\\users\\kinfeylo\\appdata\\local\\miniforge3\\envs\\agentenv\\lib\\site-packages (from azure-identity<2,>=1->agent-framework-core) (1.33.0)\n",
      "Requirement already satisfied: msal-extensions>=1.2.0 in c:\\users\\kinfeylo\\appdata\\local\\miniforge3\\envs\\agentenv\\lib\\site-packages (from azure-identity<2,>=1->agent-framework-core) (1.3.1)\n",
      "Requirement already satisfied: annotated-types>=0.6.0 in c:\\users\\kinfeylo\\appdata\\local\\miniforge3\\envs\\agentenv\\lib\\site-packages (from pydantic<3,>=2->agent-framework-core) (0.7.0)\n",
      "Requirement already satisfied: pydantic-core==2.33.2 in c:\\users\\kinfeylo\\appdata\\local\\miniforge3\\envs\\agentenv\\lib\\site-packages (from pydantic<3,>=2->agent-framework-core) (2.33.2)\n",
      "Requirement already satisfied: typing-inspection>=0.4.0 in c:\\users\\kinfeylo\\appdata\\local\\miniforge3\\envs\\agentenv\\lib\\site-packages (from pydantic<3,>=2->agent-framework-core) (0.4.1)\n",
      "Requirement already satisfied: python-dotenv>=0.21.0 in c:\\users\\kinfeylo\\appdata\\local\\miniforge3\\envs\\agentenv\\lib\\site-packages (from pydantic-settings<3,>=2->agent-framework-core) (1.1.1)\n",
      "Requirement already satisfied: requests>=2.21.0 in c:\\users\\kinfeylo\\appdata\\local\\miniforge3\\envs\\agentenv\\lib\\site-packages (from azure-core>=1.31.0->azure-identity<2,>=1->agent-framework-core) (2.32.5)\n",
      "Requirement already satisfied: six>=1.11.0 in c:\\users\\kinfeylo\\appdata\\local\\miniforge3\\envs\\agentenv\\lib\\site-packages (from azure-core>=1.31.0->azure-identity<2,>=1->agent-framework-core) (1.17.0)\n",
      "Requirement already satisfied: azure-core-tracing-opentelemetry~=1.0.0b11 in c:\\users\\kinfeylo\\appdata\\local\\miniforge3\\envs\\agentenv\\lib\\site-packages (from azure-monitor-opentelemetry>=1.7.0->agent-framework-core) (1.0.0b12)\n",
      "Requirement already satisfied: opentelemetry-instrumentation-django~=0.57b0 in c:\\users\\kinfeylo\\appdata\\local\\miniforge3\\envs\\agentenv\\lib\\site-packages (from azure-monitor-opentelemetry>=1.7.0->agent-framework-core) (0.57b0)\n",
      "Requirement already satisfied: opentelemetry-instrumentation-fastapi~=0.57b0 in c:\\users\\kinfeylo\\appdata\\local\\miniforge3\\envs\\agentenv\\lib\\site-packages (from azure-monitor-opentelemetry>=1.7.0->agent-framework-core) (0.57b0)\n",
      "Requirement already satisfied: opentelemetry-instrumentation-flask~=0.57b0 in c:\\users\\kinfeylo\\appdata\\local\\miniforge3\\envs\\agentenv\\lib\\site-packages (from azure-monitor-opentelemetry>=1.7.0->agent-framework-core) (0.57b0)\n",
      "Requirement already satisfied: opentelemetry-instrumentation-psycopg2~=0.57b0 in c:\\users\\kinfeylo\\appdata\\local\\miniforge3\\envs\\agentenv\\lib\\site-packages (from azure-monitor-opentelemetry>=1.7.0->agent-framework-core) (0.57b0)\n",
      "Requirement already satisfied: opentelemetry-instrumentation-requests~=0.57b0 in c:\\users\\kinfeylo\\appdata\\local\\miniforge3\\envs\\agentenv\\lib\\site-packages (from azure-monitor-opentelemetry>=1.7.0->agent-framework-core) (0.57b0)\n",
      "Requirement already satisfied: opentelemetry-instrumentation-urllib~=0.57b0 in c:\\users\\kinfeylo\\appdata\\local\\miniforge3\\envs\\agentenv\\lib\\site-packages (from azure-monitor-opentelemetry>=1.7.0->agent-framework-core) (0.57b0)\n",
      "Requirement already satisfied: opentelemetry-instrumentation-urllib3~=0.57b0 in c:\\users\\kinfeylo\\appdata\\local\\miniforge3\\envs\\agentenv\\lib\\site-packages (from azure-monitor-opentelemetry>=1.7.0->agent-framework-core) (0.57b0)\n",
      "Requirement already satisfied: opentelemetry-resource-detector-azure~=0.1.5 in c:\\users\\kinfeylo\\appdata\\local\\miniforge3\\envs\\agentenv\\lib\\site-packages (from azure-monitor-opentelemetry>=1.7.0->agent-framework-core) (0.1.5)\n",
      "Requirement already satisfied: fixedint==0.1.6 in c:\\users\\kinfeylo\\appdata\\local\\miniforge3\\envs\\agentenv\\lib\\site-packages (from azure-monitor-opentelemetry-exporter>=1.0.0b41->agent-framework-core) (0.1.6)\n",
      "Requirement already satisfied: msrest>=0.6.10 in c:\\users\\kinfeylo\\appdata\\local\\miniforge3\\envs\\agentenv\\lib\\site-packages (from azure-monitor-opentelemetry-exporter>=1.0.0b41->agent-framework-core) (0.7.1)\n",
      "Requirement already satisfied: psutil<8,>=5.9 in c:\\users\\kinfeylo\\appdata\\local\\miniforge3\\envs\\agentenv\\lib\\site-packages (from azure-monitor-opentelemetry-exporter>=1.0.0b41->agent-framework-core) (7.0.0)\n",
      "Requirement already satisfied: importlib-metadata<8.8.0,>=6.0 in c:\\users\\kinfeylo\\appdata\\local\\miniforge3\\envs\\agentenv\\lib\\site-packages (from opentelemetry-api>=1.24->agent-framework-core) (8.7.0)\n",
      "Requirement already satisfied: zipp>=3.20 in c:\\users\\kinfeylo\\appdata\\local\\miniforge3\\envs\\agentenv\\lib\\site-packages (from importlib-metadata<8.8.0,>=6.0->opentelemetry-api>=1.24->agent-framework-core) (3.23.0)\n",
      "Requirement already satisfied: opentelemetry-instrumentation-wsgi==0.57b0 in c:\\users\\kinfeylo\\appdata\\local\\miniforge3\\envs\\agentenv\\lib\\site-packages (from opentelemetry-instrumentation-django~=0.57b0->azure-monitor-opentelemetry>=1.7.0->agent-framework-core) (0.57b0)\n",
      "Requirement already satisfied: opentelemetry-instrumentation==0.57b0 in c:\\users\\kinfeylo\\appdata\\local\\miniforge3\\envs\\agentenv\\lib\\site-packages (from opentelemetry-instrumentation-django~=0.57b0->azure-monitor-opentelemetry>=1.7.0->agent-framework-core) (0.57b0)\n",
      "Requirement already satisfied: opentelemetry-semantic-conventions==0.57b0 in c:\\users\\kinfeylo\\appdata\\local\\miniforge3\\envs\\agentenv\\lib\\site-packages (from opentelemetry-instrumentation-django~=0.57b0->azure-monitor-opentelemetry>=1.7.0->agent-framework-core) (0.57b0)\n",
      "Requirement already satisfied: opentelemetry-util-http==0.57b0 in c:\\users\\kinfeylo\\appdata\\local\\miniforge3\\envs\\agentenv\\lib\\site-packages (from opentelemetry-instrumentation-django~=0.57b0->azure-monitor-opentelemetry>=1.7.0->agent-framework-core) (0.57b0)\n",
      "Requirement already satisfied: packaging>=18.0 in c:\\users\\kinfeylo\\appdata\\local\\miniforge3\\envs\\agentenv\\lib\\site-packages (from opentelemetry-instrumentation==0.57b0->opentelemetry-instrumentation-django~=0.57b0->azure-monitor-opentelemetry>=1.7.0->agent-framework-core) (25.0)\n",
      "Requirement already satisfied: wrapt<2.0.0,>=1.0.0 in c:\\users\\kinfeylo\\appdata\\local\\miniforge3\\envs\\agentenv\\lib\\site-packages (from opentelemetry-instrumentation==0.57b0->opentelemetry-instrumentation-django~=0.57b0->azure-monitor-opentelemetry>=1.7.0->agent-framework-core) (1.17.3)\n",
      "Requirement already satisfied: opentelemetry-instrumentation-asgi==0.57b0 in c:\\users\\kinfeylo\\appdata\\local\\miniforge3\\envs\\agentenv\\lib\\site-packages (from opentelemetry-instrumentation-fastapi~=0.57b0->azure-monitor-opentelemetry>=1.7.0->agent-framework-core) (0.57b0)\n",
      "Requirement already satisfied: asgiref~=3.0 in c:\\users\\kinfeylo\\appdata\\local\\miniforge3\\envs\\agentenv\\lib\\site-packages (from opentelemetry-instrumentation-asgi==0.57b0->opentelemetry-instrumentation-fastapi~=0.57b0->azure-monitor-opentelemetry>=1.7.0->agent-framework-core) (3.9.1)\n",
      "Requirement already satisfied: opentelemetry-instrumentation-dbapi==0.57b0 in c:\\users\\kinfeylo\\appdata\\local\\miniforge3\\envs\\agentenv\\lib\\site-packages (from opentelemetry-instrumentation-psycopg2~=0.57b0->azure-monitor-opentelemetry>=1.7.0->agent-framework-core) (0.57b0)\n",
      "Requirement already satisfied: cffi>=1.14 in c:\\users\\kinfeylo\\appdata\\local\\miniforge3\\envs\\agentenv\\lib\\site-packages (from cryptography>=2.5->azure-identity<2,>=1->agent-framework-core) (1.17.1)\n",
      "Requirement already satisfied: pycparser in c:\\users\\kinfeylo\\appdata\\local\\miniforge3\\envs\\agentenv\\lib\\site-packages (from cffi>=1.14->cryptography>=2.5->azure-identity<2,>=1->agent-framework-core) (2.22)\n",
      "Requirement already satisfied: anyio>=4.5 in c:\\users\\kinfeylo\\appdata\\local\\miniforge3\\envs\\agentenv\\lib\\site-packages (from mcp>=1.13->mcp[ws]>=1.13->agent-framework-core) (4.10.0)\n",
      "Requirement already satisfied: httpx-sse>=0.4 in c:\\users\\kinfeylo\\appdata\\local\\miniforge3\\envs\\agentenv\\lib\\site-packages (from mcp>=1.13->mcp[ws]>=1.13->agent-framework-core) (0.4.1)\n",
      "Requirement already satisfied: httpx>=0.27.1 in c:\\users\\kinfeylo\\appdata\\local\\miniforge3\\envs\\agentenv\\lib\\site-packages (from mcp>=1.13->mcp[ws]>=1.13->agent-framework-core) (0.28.1)\n",
      "Requirement already satisfied: jsonschema>=4.20.0 in c:\\users\\kinfeylo\\appdata\\local\\miniforge3\\envs\\agentenv\\lib\\site-packages (from mcp>=1.13->mcp[ws]>=1.13->agent-framework-core) (4.25.1)\n",
      "Requirement already satisfied: python-multipart>=0.0.9 in c:\\users\\kinfeylo\\appdata\\local\\miniforge3\\envs\\agentenv\\lib\\site-packages (from mcp>=1.13->mcp[ws]>=1.13->agent-framework-core) (0.0.20)\n",
      "Requirement already satisfied: pywin32>=310 in c:\\users\\kinfeylo\\appdata\\local\\miniforge3\\envs\\agentenv\\lib\\site-packages (from mcp>=1.13->mcp[ws]>=1.13->agent-framework-core) (311)\n",
      "Requirement already satisfied: sse-starlette>=1.6.1 in c:\\users\\kinfeylo\\appdata\\local\\miniforge3\\envs\\agentenv\\lib\\site-packages (from mcp>=1.13->mcp[ws]>=1.13->agent-framework-core) (3.0.2)\n",
      "Requirement already satisfied: starlette>=0.27 in c:\\users\\kinfeylo\\appdata\\local\\miniforge3\\envs\\agentenv\\lib\\site-packages (from mcp>=1.13->mcp[ws]>=1.13->agent-framework-core) (0.47.3)\n",
      "Requirement already satisfied: uvicorn>=0.31.1 in c:\\users\\kinfeylo\\appdata\\local\\miniforge3\\envs\\agentenv\\lib\\site-packages (from mcp>=1.13->mcp[ws]>=1.13->agent-framework-core) (0.35.0)\n",
      "Requirement already satisfied: idna>=2.8 in c:\\users\\kinfeylo\\appdata\\local\\miniforge3\\envs\\agentenv\\lib\\site-packages (from anyio>=4.5->mcp>=1.13->mcp[ws]>=1.13->agent-framework-core) (3.10)\n",
      "Requirement already satisfied: sniffio>=1.1 in c:\\users\\kinfeylo\\appdata\\local\\miniforge3\\envs\\agentenv\\lib\\site-packages (from anyio>=4.5->mcp>=1.13->mcp[ws]>=1.13->agent-framework-core) (1.3.1)\n",
      "Requirement already satisfied: certifi in c:\\users\\kinfeylo\\appdata\\local\\miniforge3\\envs\\agentenv\\lib\\site-packages (from httpx>=0.27.1->mcp>=1.13->mcp[ws]>=1.13->agent-framework-core) (2025.8.3)\n",
      "Requirement already satisfied: httpcore==1.* in c:\\users\\kinfeylo\\appdata\\local\\miniforge3\\envs\\agentenv\\lib\\site-packages (from httpx>=0.27.1->mcp>=1.13->mcp[ws]>=1.13->agent-framework-core) (1.0.9)\n",
      "Requirement already satisfied: h11>=0.16 in c:\\users\\kinfeylo\\appdata\\local\\miniforge3\\envs\\agentenv\\lib\\site-packages (from httpcore==1.*->httpx>=0.27.1->mcp>=1.13->mcp[ws]>=1.13->agent-framework-core) (0.16.0)\n",
      "Requirement already satisfied: attrs>=22.2.0 in c:\\users\\kinfeylo\\appdata\\local\\miniforge3\\envs\\agentenv\\lib\\site-packages (from jsonschema>=4.20.0->mcp>=1.13->mcp[ws]>=1.13->agent-framework-core) (25.3.0)\n",
      "Requirement already satisfied: jsonschema-specifications>=2023.03.6 in c:\\users\\kinfeylo\\appdata\\local\\miniforge3\\envs\\agentenv\\lib\\site-packages (from jsonschema>=4.20.0->mcp>=1.13->mcp[ws]>=1.13->agent-framework-core) (2025.4.1)\n",
      "Requirement already satisfied: referencing>=0.28.4 in c:\\users\\kinfeylo\\appdata\\local\\miniforge3\\envs\\agentenv\\lib\\site-packages (from jsonschema>=4.20.0->mcp>=1.13->mcp[ws]>=1.13->agent-framework-core) (0.36.2)\n",
      "Requirement already satisfied: rpds-py>=0.7.1 in c:\\users\\kinfeylo\\appdata\\local\\miniforge3\\envs\\agentenv\\lib\\site-packages (from jsonschema>=4.20.0->mcp>=1.13->mcp[ws]>=1.13->agent-framework-core) (0.27.1)\n",
      "Requirement already satisfied: websockets>=15.0.1 in c:\\users\\kinfeylo\\appdata\\local\\miniforge3\\envs\\agentenv\\lib\\site-packages (from mcp[ws]>=1.13->agent-framework-core) (15.0.1)\n",
      "Requirement already satisfied: PyJWT<3,>=1.0.0 in c:\\users\\kinfeylo\\appdata\\local\\miniforge3\\envs\\agentenv\\lib\\site-packages (from PyJWT[crypto]<3,>=1.0.0->msal>=1.30.0->azure-identity<2,>=1->agent-framework-core) (2.10.1)\n",
      "Requirement already satisfied: charset_normalizer<4,>=2 in c:\\users\\kinfeylo\\appdata\\local\\miniforge3\\envs\\agentenv\\lib\\site-packages (from requests>=2.21.0->azure-core>=1.31.0->azure-identity<2,>=1->agent-framework-core) (3.4.3)\n",
      "Requirement already satisfied: urllib3<3,>=1.21.1 in c:\\users\\kinfeylo\\appdata\\local\\miniforge3\\envs\\agentenv\\lib\\site-packages (from requests>=2.21.0->azure-core>=1.31.0->azure-identity<2,>=1->agent-framework-core) (2.5.0)\n",
      "Requirement already satisfied: isodate>=0.6.0 in c:\\users\\kinfeylo\\appdata\\local\\miniforge3\\envs\\agentenv\\lib\\site-packages (from msrest>=0.6.10->azure-monitor-opentelemetry-exporter>=1.0.0b41->agent-framework-core) (0.7.2)\n",
      "Requirement already satisfied: requests-oauthlib>=0.5.0 in c:\\users\\kinfeylo\\appdata\\local\\miniforge3\\envs\\agentenv\\lib\\site-packages (from msrest>=0.6.10->azure-monitor-opentelemetry-exporter>=1.0.0b41->agent-framework-core) (2.0.0)\n",
      "Requirement already satisfied: distro<2,>=1.7.0 in c:\\users\\kinfeylo\\appdata\\local\\miniforge3\\envs\\agentenv\\lib\\site-packages (from openai>=1.99.0->agent-framework-core) (1.9.0)\n",
      "Requirement already satisfied: jiter<1,>=0.4.0 in c:\\users\\kinfeylo\\appdata\\local\\miniforge3\\envs\\agentenv\\lib\\site-packages (from openai>=1.99.0->agent-framework-core) (0.10.0)\n",
      "Requirement already satisfied: tqdm>4 in c:\\users\\kinfeylo\\appdata\\local\\miniforge3\\envs\\agentenv\\lib\\site-packages (from openai>=1.99.0->agent-framework-core) (4.67.1)\n",
      "Requirement already satisfied: googleapis-common-protos~=1.57 in c:\\users\\kinfeylo\\appdata\\local\\miniforge3\\envs\\agentenv\\lib\\site-packages (from opentelemetry-exporter-otlp-proto-grpc>=1.36.0->agent-framework-core) (1.70.0)\n",
      "Requirement already satisfied: grpcio<2.0.0,>=1.63.2 in c:\\users\\kinfeylo\\appdata\\local\\miniforge3\\envs\\agentenv\\lib\\site-packages (from opentelemetry-exporter-otlp-proto-grpc>=1.36.0->agent-framework-core) (1.74.0)\n",
      "Requirement already satisfied: opentelemetry-exporter-otlp-proto-common==1.36.0 in c:\\users\\kinfeylo\\appdata\\local\\miniforge3\\envs\\agentenv\\lib\\site-packages (from opentelemetry-exporter-otlp-proto-grpc>=1.36.0->agent-framework-core) (1.36.0)\n",
      "Requirement already satisfied: opentelemetry-proto==1.36.0 in c:\\users\\kinfeylo\\appdata\\local\\miniforge3\\envs\\agentenv\\lib\\site-packages (from opentelemetry-exporter-otlp-proto-grpc>=1.36.0->agent-framework-core) (1.36.0)\n",
      "Requirement already satisfied: protobuf<7.0,>=5.0 in c:\\users\\kinfeylo\\appdata\\local\\miniforge3\\envs\\agentenv\\lib\\site-packages (from opentelemetry-proto==1.36.0->opentelemetry-exporter-otlp-proto-grpc>=1.36.0->agent-framework-core) (5.29.5)\n",
      "Requirement already satisfied: oauthlib>=3.0.0 in c:\\users\\kinfeylo\\appdata\\local\\miniforge3\\envs\\agentenv\\lib\\site-packages (from requests-oauthlib>=0.5.0->msrest>=0.6.10->azure-monitor-opentelemetry-exporter>=1.0.0b41->agent-framework-core) (3.3.1)\n",
      "Requirement already satisfied: colorama in c:\\users\\kinfeylo\\appdata\\local\\miniforge3\\envs\\agentenv\\lib\\site-packages (from tqdm>4->openai>=1.99.0->agent-framework-core) (0.4.6)\n",
      "Requirement already satisfied: click>=7.0 in c:\\users\\kinfeylo\\appdata\\local\\miniforge3\\envs\\agentenv\\lib\\site-packages (from uvicorn>=0.31.1->mcp>=1.13->mcp[ws]>=1.13->agent-framework-core) (8.2.1)\n"
     ]
    }
   ],
   "source": [
    "! pip install agent-framework-core -U"
   ]
  },
  {
   "cell_type": "code",
   "execution_count": 2,
   "id": "580e76d9",
   "metadata": {},
   "outputs": [],
   "source": [
    "# 🔄 Import Workflow and Agent Framework Components\n",
    "# Core components for building sophisticated agent workflows\n",
    "\n",
    "from agent_framework.openai import OpenAIChatClient    # 🤖 GitHub Models client integration\n",
    "from agent_framework import WorkflowBuilder, WorkflowEvent, WorkflowViz  # 🏗️ Workflow orchestration tools"
   ]
  },
  {
   "cell_type": "code",
   "execution_count": 3,
   "id": "5fe71939",
   "metadata": {},
   "outputs": [],
   "source": [
    "# 📦 Import Environment and System Utilities\n",
    "# Essential libraries for configuration and environment management\n",
    "\n",
    "import os                      # 🔧 Environment variable access\n",
    "from dotenv import load_dotenv # 📁 Secure configuration loading"
   ]
  },
  {
   "cell_type": "code",
   "execution_count": 4,
   "id": "cf183974",
   "metadata": {},
   "outputs": [
    {
     "data": {
      "text/plain": [
       "True"
      ]
     },
     "execution_count": 4,
     "metadata": {},
     "output_type": "execute_result"
    }
   ],
   "source": [
    "# 🔧 Initialize Environment Configuration\n",
    "# Load GitHub Models API credentials from .env file\n",
    "load_dotenv()"
   ]
  },
  {
   "cell_type": "code",
   "execution_count": 5,
   "id": "7a679634",
   "metadata": {},
   "outputs": [],
   "source": [
    "# 🔗 Initialize GitHub Models Chat Client for Workflow Operations\n",
    "# Create the AI client that will power agents within our workflow\n",
    "chat_client = OpenAIChatClient(\n",
    "    base_url=os.environ.get(\"GITHUB_ENDPOINT\"),    # 🌐 GitHub Models API endpoint\n",
    "    api_key=os.environ.get(\"GITHUB_TOKEN\"),        # 🔑 Authentication token\n",
    "    model_id=os.environ.get(\"GITHUB_MODEL_ID\")  # 🎯 Selected AI model\n",
    ")"
   ]
  },
  {
   "cell_type": "code",
   "execution_count": 6,
   "id": "ba45c08b",
   "metadata": {},
   "outputs": [],
   "source": [
    "REVIEWER_NAME = \"Concierge\"\n",
    "REVIEWER_INSTRUCTIONS = \"\"\"\n",
    "    You are an are hotel concierge who has opinions about providing the most local and authentic experiences for travelers.\n",
    "    The goal is to determine if the front desk travel agent has recommended the best non-touristy experience for a traveler.\n",
    "    If so, state that it is approved.\n",
    "    If not, provide insight on how to refine the recommendation without using a specific example. \n",
    "    \"\"\""
   ]
  },
  {
   "cell_type": "code",
   "execution_count": 7,
   "id": "d9f520ff",
   "metadata": {},
   "outputs": [],
   "source": [
    "FRONTDESK_NAME = \"FrontDesk\"\n",
    "FRONTDESK_INSTRUCTIONS = \"\"\"\n",
    "    You are a Front Desk Travel Agent with ten years of experience and are known for brevity as you deal with many customers.\n",
    "    The goal is to provide the best activities and locations for a traveler to visit.\n",
    "    Only provide a single recommendation per response.\n",
    "    You're laser focused on the goal at hand.\n",
    "    Don't waste time with chit chat.\n",
    "    Consider suggestions when refining an idea.\n",
    "    \"\"\""
   ]
  },
  {
   "cell_type": "code",
   "execution_count": 8,
   "id": "ad4819e0",
   "metadata": {},
   "outputs": [],
   "source": [
    "reviewer_agent   = chat_client.create_agent(\n",
    "        instructions=(\n",
    "           REVIEWER_INSTRUCTIONS\n",
    "        ),\n",
    "        name=REVIEWER_NAME,\n",
    "    )\n",
    "\n",
    "front_desk_agent = chat_client.create_agent(\n",
    "        instructions=(\n",
    "            FRONTDESK_INSTRUCTIONS\n",
    "        ),\n",
    "        name=FRONTDESK_NAME,\n",
    "    )"
   ]
  },
  {
   "cell_type": "code",
   "execution_count": 9,
   "id": "150bb29b",
   "metadata": {},
   "outputs": [],
   "source": [
    "workflow = WorkflowBuilder().set_start_executor(front_desk_agent).add_edge(front_desk_agent, reviewer_agent).build()"
   ]
  },
  {
   "cell_type": "code",
   "execution_count": 10,
   "id": "e913c773",
   "metadata": {},
   "outputs": [
    {
     "name": "stdout",
     "output_type": "stream",
     "text": [
      "Generating workflow visualization...\n",
      "Mermaid string: \n",
      "=======\n",
      "flowchart TD\n",
      "  FrontDesk[\"FrontDesk (Start)\"];\n",
      "  Concierge[\"Concierge\"];\n",
      "  FrontDesk --> Concierge;\n",
      "=======\n",
      "DiGraph string: \n",
      "=======\n",
      "digraph Workflow {\n",
      "  rankdir=TD;\n",
      "  node [shape=box, style=filled, fillcolor=lightblue];\n",
      "  edge [color=black, arrowhead=vee];\n",
      "\n",
      "  \"FrontDesk\" [fillcolor=lightgreen, label=\"FrontDesk\\n(Start)\"];\n",
      "  \"Concierge\" [label=\"Concierge\"];\n",
      "  \"FrontDesk\" -> \"Concierge\";\n",
      "}\n",
      "=======\n",
      "SVG file saved to: C:\\Users\\kinfeylo\\AppData\\Local\\Temp\\tmpq947fo_v.svg\n"
     ]
    }
   ],
   "source": [
    "\n",
    "print(\"Generating workflow visualization...\")\n",
    "viz = WorkflowViz(workflow)\n",
    "# Print out the mermaid string.\n",
    "print(\"Mermaid string: \\n=======\")\n",
    "print(viz.to_mermaid())\n",
    "print(\"=======\")\n",
    "# Print out the DiGraph string.\n",
    "print(\"DiGraph string: \\n=======\")\n",
    "print(viz.to_digraph())\n",
    "print(\"=======\")\n",
    "svg_file = viz.export(format=\"svg\")\n",
    "print(f\"SVG file saved to: {svg_file}\")"
   ]
  },
  {
   "cell_type": "code",
   "execution_count": 11,
   "id": "5fe90eb5",
   "metadata": {},
   "outputs": [],
   "source": [
    "class DatabaseEvent(WorkflowEvent): ..."
   ]
  },
  {
   "cell_type": "code",
   "execution_count": 12,
   "id": "e802947c",
   "metadata": {},
   "outputs": [
    {
     "name": "stdout",
     "output_type": "stream",
     "text": [
      "Attempting to display SVG file at: C:\\Users\\kinfeylo\\AppData\\Local\\Temp\\tmpq947fo_v.svg\n"
     ]
    },
    {
     "data": {
      "image/svg+xml": [
       "<svg xmlns=\"http://www.w3.org/2000/svg\" xmlns:xlink=\"http://www.w3.org/1999/xlink\" width=\"81pt\" height=\"121pt\" viewBox=\"0.00 0.00 81.00 121.00\">\n",
       "<g id=\"graph0\" class=\"graph\" transform=\"scale(1 1) rotate(0) translate(4 117)\">\n",
       "<title>Workflow</title>\n",
       "<polygon fill=\"white\" stroke=\"none\" points=\"-4,4 -4,-117 77,-117 77,4 -4,4\"/>\n",
       "<!-- FrontDesk -->\n",
       "<g id=\"node1\" class=\"node\">\n",
       "<title>FrontDesk</title>\n",
       "<polygon fill=\"lightgreen\" stroke=\"black\" points=\"73,-113 0,-113 0,-72 73,-72 73,-113\"/>\n",
       "<text xml:space=\"preserve\" text-anchor=\"middle\" x=\"36.5\" y=\"-95.7\" font-family=\"Times New Roman,serif\" font-size=\"14.00\">FrontDesk</text>\n",
       "<text xml:space=\"preserve\" text-anchor=\"middle\" x=\"36.5\" y=\"-79.2\" font-family=\"Times New Roman,serif\" font-size=\"14.00\">(Start)</text>\n",
       "</g>\n",
       "<!-- Concierge -->\n",
       "<g id=\"node2\" class=\"node\">\n",
       "<title>Concierge</title>\n",
       "<polygon fill=\"lightblue\" stroke=\"black\" points=\"72.25,-36 0.75,-36 0.75,0 72.25,0 72.25,-36\"/>\n",
       "<text xml:space=\"preserve\" text-anchor=\"middle\" x=\"36.5\" y=\"-12.95\" font-family=\"Times New Roman,serif\" font-size=\"14.00\">Concierge</text>\n",
       "</g>\n",
       "<!-- FrontDesk&#45;&gt;Concierge -->\n",
       "<g id=\"edge1\" class=\"edge\">\n",
       "<title>FrontDesk-&gt;Concierge</title>\n",
       "<path fill=\"none\" stroke=\"black\" d=\"M36.5,-71.69C36.5,-64.17 36.5,-55.44 36.5,-47.29\"/>\n",
       "<polygon fill=\"black\" stroke=\"black\" points=\"36.5,-37.54 41,-47.54 36.5,-41.32 36.5,-47.54 36.5,-47.54 36.5,-47.54 36.5,-41.32 32,-47.54 36.5,-37.54\"/>\n",
       "</g>\n",
       "</g>\n",
       "</svg>"
      ],
      "text/plain": [
       "<IPython.core.display.SVG object>"
      ]
     },
     "metadata": {},
     "output_type": "display_data"
    }
   ],
   "source": [
    "# Display the exported workflow SVG inline in the notebook\n",
    "\n",
    "from IPython.display import SVG, display, HTML\n",
    "import os\n",
    "\n",
    "print(f\"Attempting to display SVG file at: {svg_file}\")\n",
    "\n",
    "if svg_file and os.path.exists(svg_file):\n",
    "    try:\n",
    "        # Preferred: direct SVG rendering\n",
    "        display(SVG(filename=svg_file))\n",
    "    except Exception as e:\n",
    "        print(f\"⚠️ Direct SVG render failed: {e}. Falling back to raw HTML.\")\n",
    "        try:\n",
    "            with open(svg_file, \"r\", encoding=\"utf-8\") as f:\n",
    "                svg_text = f.read()\n",
    "            display(HTML(svg_text))\n",
    "        except Exception as inner:\n",
    "            print(f\"❌ Fallback HTML render also failed: {inner}\")\n",
    "else:\n",
    "    print(\"❌ SVG file not found. Ensure viz.export(format='svg') ran successfully.\")\n"
   ]
  },
  {
   "cell_type": "code",
   "execution_count": 13,
   "id": "a0651dfc",
   "metadata": {},
   "outputs": [],
   "source": [
    "result =''\n",
    "async for event in workflow.run_stream('I would like to go to Paris.'):\n",
    "    if isinstance(event, DatabaseEvent):\n",
    "        print(f\"{event}\")\n",
    "    if isinstance(event, WorkflowEvent):\n",
    "        result += str(event.data)\n",
    "        # print(f\"Workflow output: {event.data}\")"
   ]
  },
  {
   "cell_type": "code",
   "execution_count": 14,
   "id": "ad9e0c48",
   "metadata": {},
   "outputs": [
    {
     "data": {
      "text/plain": [
       "'Visit the Louvre Museum for world-class art and historical masterpieces.While the Louvre is certainly an iconic destination, it can be quite touristy. To enhance the authenticity of your experience in Paris, consider recommending a lesser-known art space or gallery where you can appreciate local artists and their work. Additionally, exploring lesser-trodden neighborhoods or engaging with local artisans can provide a more genuine feel of Parisian culture. Aim for experiences that allow for personal interactions and deeper connections with the local community.While the Louvre is certainly an iconic destination, it can be quite touristy. To enhance the authenticity of your experience in Paris, consider recommending a lesser-known art space or gallery where you can appreciate local artists and their work. Additionally, exploring lesser-trodden neighborhoods or engaging with local artisans can provide a more genuine feel of Parisian culture. Aim for experiences that allow for personal interactions and deeper connections with the local community.'"
      ]
     },
     "execution_count": 14,
     "metadata": {},
     "output_type": "execute_result"
    }
   ],
   "source": [
    "result.replace(\"None\", \"\")"
   ]
  },
  {
   "cell_type": "markdown",
   "metadata": {},
   "source": [
    "\n---\n\n**অস্বীকৃতি**:  \nএই নথিটি AI অনুবাদ পরিষেবা [Co-op Translator](https://github.com/Azure/co-op-translator) ব্যবহার করে অনুবাদ করা হয়েছে। আমরা যথাসাধ্য সঠিকতা নিশ্চিত করার চেষ্টা করি, তবে অনুগ্রহ করে মনে রাখবেন যে স্বয়ংক্রিয় অনুবাদে ত্রুটি বা অসঙ্গতি থাকতে পারে। মূল ভাষায় থাকা নথিটিকে প্রামাণিক উৎস হিসেবে বিবেচনা করা উচিত। গুরুত্বপূর্ণ তথ্যের জন্য, পেশাদার মানব অনুবাদ সুপারিশ করা হয়। এই অনুবাদ ব্যবহারের ফলে কোনো ভুল বোঝাবুঝি বা ভুল ব্যাখ্যা হলে আমরা দায়বদ্ধ থাকব না।\n"
   ]
  }
 ],
 "metadata": {
  "kernelspec": {
   "display_name": "agentenv",
   "language": "python",
   "name": "python3"
  },
  "language_info": {
   "codemirror_mode": {
    "name": "ipython",
    "version": 3
   },
   "file_extension": ".py",
   "mimetype": "text/x-python",
   "name": "python",
   "nbconvert_exporter": "python",
   "pygments_lexer": "ipython3",
   "version": "3.12.10"
  },
  "polyglot_notebook": {
   "kernelInfo": {
    "defaultKernelName": "csharp",
    "items": [
     {
      "aliases": [],
      "name": "csharp"
     }
    ]
   }
  },
  "coopTranslator": {
   "original_hash": "8ef443502ac1bcf5ba0fa8ef4480da50",
   "translation_date": "2025-10-02T14:12:46+00:00",
   "source_file": "08-multi-agent/code_samples/workflows-agent-framework/python/01.python-agent-framework-workflow-ghmodel-basic.ipynb",
   "language_code": "bn"
  }
 },
 "nbformat": 4,
 "nbformat_minor": 5
}